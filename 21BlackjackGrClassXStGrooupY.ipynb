{
  "nbformat": 4,
  "nbformat_minor": 0,
  "metadata": {
    "colab": {
      "name": "AlgorithmsLab4.ipynb",
      "provenance": [],
      "collapsed_sections": [
        "FifJfIHri2yr",
        "11ztfN3EjKS2",
        "o15qVZUsB1si",
        "BMLceZcgB7J3",
        "IqnSmT39B_aq",
        "226C0AVCCBsi",
        "UIANiPooWYT1"
      ]
    },
    "kernelspec": {
      "name": "python3",
      "display_name": "Python 3"
    }
  },
  "cells": [
    {
      "cell_type": "code",
      "metadata": {
        "id": "gWYXauBUiyLy",
        "colab_type": "code",
        "colab": {}
      },
      "source": [
        "import random as r\n",
        "import matplotlib.pyplot as plt\n",
        "import pandas as pd\n",
        "import seaborn as sns"
      ],
      "execution_count": null,
      "outputs": []
    },
    {
      "cell_type": "markdown",
      "metadata": {
        "id": "FifJfIHri2yr",
        "colab_type": "text"
      },
      "source": [
        "# Punto 1"
      ]
    },
    {
      "cell_type": "markdown",
      "metadata": {
        "id": "u7G3rF3KEhpS",
        "colab_type": "text"
      },
      "source": [
        "Calculate the probability of getting a 21 drawing cards sequentially from shuffled Spanish 48-deck with card values [1,2,3,4,5,6,7,10,11,12,1,2,3,4,5,6,7,8,9,10,11,12,1,2,3,4,5,6,7,8,9,10,11,12,1,2,3,4,5,6,7,8,9,10,11,12] and from a shuffled Poker 52-card with card values [1,2,3,4,5,6,7,8,9,10,11,12,13,1,2,3,4,5,6,7,8,9,10,11,12,13,1,2,3,4,5,6,7,8,9,10,11,12,13,1,2,3,4,5,6,7,8,9,10,11,12,13]. Plot the experimental distribution of the numbers of card requires to complete 21 in 10000 trials."
      ]
    },
    {
      "cell_type": "code",
      "metadata": {
        "id": "DuJb_2RPS2MA",
        "colab_type": "code",
        "colab": {
          "base_uri": "https://localhost:8080/",
          "height": 363
        },
        "outputId": "2d2bd61d-fa0f-42f7-ee32-3c0cf29ec9f9"
      },
      "source": [
        "n=10000                         #Numero de juegos\n",
        "contador =0                     #Numero de juegos en los que se obtuvo 21\n",
        "promedio = 0                    #Suma del numero de cartas robadas en todos los juegos\n",
        "\n",
        "barajaes = [1,2,3,4,5,6,7,8,9,10,11,12,\n",
        "            1,2,3,4,5,6,7,8,9,10,11,12,\n",
        "            1,2,3,4,5,6,7,8,9,10,11,12,\n",
        "            1,2,3,4,5,6,7,8,9,10,11,12]\n",
        "\n",
        "barajapk= [1,2,3,4,5,6,7,8,9,10,11,12,13,\n",
        "           1,2,3,4,5,6,7,8,9,10,11,12,13,\n",
        "           1,2,3,4,5,6,7,8,9,10,11,12,13,\n",
        "           1,2,3,4,5,6,7,8,9,10,11,12,13]\n",
        "\n",
        "opc = int(input(\"Deck Español [1] o Deck Poker [2]: \"))\n",
        "\n",
        "if opc==1:\n",
        "  baraja = barajaes\n",
        "else:\n",
        "  baraja = barajapk\n",
        "\n",
        "cpj = []                        #Numero de cartas robadas por juego\n",
        "\n",
        "for i in range(n):\n",
        "  r.shuffle(baraja)             #Revuelve la baraja\n",
        "  mano = []                     #Mano del jugador\n",
        "  crob = 0                      #Cartas Robadas\n",
        "  f = 0                         #Indice de carta a robar\n",
        "\n",
        "  while sum(mano)<21:           #Si la mano no suma 21 o mas\n",
        "\n",
        "    mano.append(baraja[f])      #Agrega a la mano la carta con indice f de la baraja\n",
        "    f += 1                      #Incrementa el indice\n",
        "    crob += 1                   #Aumenta las cartas robadas\n",
        "\n",
        "  if sum(mano)==21:             #Si la mano suma 21\n",
        "   \n",
        "    contador += 1               #Aumenta el numero de juegos con 21\n",
        "    promedio += crob            #Aumenta el total de las cartas robadas\n",
        "    cpj.append(crob)            #Agrega el numero de cartas robadas a la lista\n",
        "\n",
        "print(\"Numero de juegos:\",n,\"\\n\\nLa probabilidad de conseguir 21 es\",(contador/n)*100,\"%  ó  \",(contador/n))\n",
        "#print(\"Cartas para conseguir 21 (Promedio):\", round(promedio/contador))\n",
        "\n",
        "histo = sns.countplot(cpj, palette = \"ocean\")\n",
        "histo.set(title = \"Experimental Distribution\", xlabel = \"Numero de cartas\", ylabel = \"Numero de 21\")\n",
        "plt.show()\n"
      ],
      "execution_count": null,
      "outputs": [
        {
          "output_type": "stream",
          "text": [
            "Deck Español [1] o Deck Poker [2]: 1\n",
            "Numero de juegos: 10000 \n",
            "\n",
            "La probabilidad de conseguir 21 es 15.5 %  ó   0.155\n"
          ],
          "name": "stdout"
        },
        {
          "output_type": "display_data",
          "data": {
            "image/png": "[encoded data removed]",
            "text/plain": [
              "<Figure size 432x288 with 1 Axes>"
            ]
          },
          "metadata": {
            "tags": [],
            "needs_background": "light"
          }
        }
      ]
    },
    {
      "cell_type": "markdown",
      "metadata": {
        "colab_type": "text",
        "id": "11ztfN3EjKS2"
      },
      "source": [
        "# Punto 2"
      ]
    },
    {
      "cell_type": "markdown",
      "metadata": {
        "id": "o2_zTqFDEmq5",
        "colab_type": "text"
      },
      "source": [
        "Calculate the probability of getting a 21 drawing cards sequentially from shuffled Spanish 48-deck with card values are [1,2,3,4,5,6,7,8,9,,10,10,10,1,2,3,4,5,6,7,8,9,,10,10,10,1,2,3,4,5,6,7,8,9,10,10,10,1,2,3,4,5,6,7,8,9,,10,10,10] and [1,2,3,4,5,6,7,8,9,10,10,10,10,1,2,3,4,5,6,7,8,9,10,10,10,10,1,2,3,4,5,6,7,8,9,10,10,10,10,1,2,3,4,5,6,7,8,9,10,10,10,10] for the Spanish and Poker card decks. Plot the experimental distribution of the numbers of card requires to complete 21 in 10000 simulations."
      ]
    },
    {
      "cell_type": "code",
      "metadata": {
        "colab_type": "code",
        "id": "N6l-8DJfjKS4",
        "colab": {
          "base_uri": "https://localhost:8080/",
          "height": 363
        },
        "outputId": "b7df9742-e707-4ee0-e59f-2ce8a3a3fc11"
      },
      "source": [
        "n=10000                         #Numero de juegos\n",
        "contador =0                     #Numero de juegos en los que se obtuvo 21\n",
        "promedio = 0                    #Suma del numero de cartas robadas en todos los juegos\n",
        "\n",
        "barajaes = [1,2,3,4,5,6,7,8,9,10,10,10,\n",
        "            1,2,3,4,5,6,7,8,9,10,10,10,\n",
        "            1,2,3,4,5,6,7,8,9,10,10,10,\n",
        "            1,2,3,4,5,6,7,8,9,10,10,10]\n",
        "\n",
        "barajapk= [1,2,3,4,5,6,7,8,9,10,10,10,10,\n",
        "           1,2,3,4,5,6,7,8,9,10,10,10,10,\n",
        "           1,2,3,4,5,6,7,8,9,10,10,10,10,\n",
        "           1,2,3,4,5,6,7,8,9,10,10,10,10]\n",
        "\n",
        "opc = int(input(\"Deck con tres 10 [1] o Deck con cuatro 10 [2]: \"))\n",
        "\n",
        "if opc==1:\n",
        "  baraja = barajaes\n",
        "else:\n",
        "  baraja = barajapk\n",
        "\n",
        "cpj = []                        #Numero de cartas robadas por juego\n",
        "\n",
        "for i in range(n):\n",
        "  r.shuffle(baraja)             #Revuelve la baraja\n",
        "  mano = []                     #Mano del jugador\n",
        "  crob = 0                      #Cartas Robadas\n",
        "  f = 0                         #Indice de carta a robar\n",
        "\n",
        "  while sum(mano)<21:           #Si la mano no suma 21 o mas\n",
        "\n",
        "    mano.append(baraja[f])      #Agrega a la mano la carta con indice f de la baraja\n",
        "    f += 1                      #Incrementa el indice\n",
        "    crob += 1                   #Aumenta las cartas robadas\n",
        "\n",
        "  if sum(mano)==21:             #Si la mano suma 21\n",
        "   \n",
        "    contador += 1               #Aumenta el numero de juegos con 21\n",
        "    promedio += crob            #Aumenta el total de las cartas robadas\n",
        "    cpj.append(crob)            #Agrega el numero de cartas robadas a la lista\n",
        "\n",
        "print(\"Numero de juegos:\",n,\"\\n\\nLa probabilidad de conseguir 21:\",(contador/n)*100,\"%  ó  \",(contador/n))\n",
        "#print(\"Cartas para conseguir 21 (Promedio):\", round(promedio/contador))\n",
        "\n",
        "histo = sns.countplot(cpj, palette = \"ocean\")\n",
        "histo.set(title = \"Experimental Distribution\", xlabel = \"Numero de cartas\", ylabel = \"Numero de 21\")\n",
        "plt.show()\n",
        "\n"
      ],
      "execution_count": null,
      "outputs": [
        {
          "output_type": "stream",
          "text": [
            "Deck con tres 10 [1] o Deck con cuatro 10 [2]: 1\n",
            "Numero de juegos: 10000 \n",
            "\n",
            "La probabilidad de conseguir 21: 15.310000000000002 %  ó   0.1531\n"
          ],
          "name": "stdout"
        },
        {
          "output_type": "display_data",
          "data": {
            "image/png": "[encoded data removed]",
            "text/plain": [
              "<Figure size 432x288 with 1 Axes>"
            ]
          },
          "metadata": {
            "tags": [],
            "needs_background": "light"
          }
        }
      ]
    },
    {
      "cell_type": "markdown",
      "metadata": {
        "id": "o15qVZUsB1si",
        "colab_type": "text"
      },
      "source": [
        "# Punto 3"
      ]
    },
    {
      "cell_type": "markdown",
      "metadata": {
        "id": "FpAUIM3FEpzZ",
        "colab_type": "text"
      },
      "source": [
        "Calculate the probability of getting a 21, with the Spanish and Poker card deck, assuming that you are in the middle of game and the remaining deck has n/2 card and you have the cards [7,7,5]. You pick arbitrary what card are in the remaining deck with the only restriction that there are be maximum two 7s and three 5s). Plot the experimental distribution of the numbers of card requires to complete 21 in 10000 simulations."
      ]
    },
    {
      "cell_type": "code",
      "metadata": {
        "id": "ZaU4naUeErGD",
        "colab_type": "code",
        "colab": {
          "base_uri": "https://localhost:8080/",
          "height": 363
        },
        "outputId": "aa4d7ab1-c268-426d-e718-40b999c75778"
      },
      "source": [
        "n=10000                         #Numero de juegos\n",
        "contador =0                     #Numero de juegos en los que se obtuvo 21\n",
        "promedio = 0                    #Suma del numero de cartas robadas en todos los juegos\n",
        "\n",
        "barajaes = [1,2,3,4,  6,  8,9,10,11,12,\n",
        "            1,2,3,4,5,6,  8,9,10,11,12,\n",
        "            1,2,3,4,5,6,7,8,9,10,11,12,\n",
        "            1,2,3,4,5,6,7,8,9,10,11,12]\n",
        "\n",
        "barajapk= [1,2,3,4,  6,  8,9,10,11,12,13,\n",
        "           1,2,3,4,5,6,  8,9,10,11,12,13,\n",
        "           1,2,3,4,5,6,7,8,9,10,11,12,13,\n",
        "           1,2,3,4,5,6,7,8,9,10,11,12,13]\n",
        "\n",
        "media_baraja = []\n",
        "\n",
        "opc = int(input(\"Deck Español [1] o Deck Poker [2]: \"))\n",
        "\n",
        "if opc==1:\n",
        "  baraja = barajaes\n",
        "else:\n",
        "  baraja = barajapk\n",
        "\n",
        "x = int((len(baraja)-1)/2)\n",
        "\n",
        "for i in range(0,x):        #Divide baraja a la mitad\n",
        "  media_baraja.append(r.choice(baraja))\n",
        "\n",
        "cpj = []                        #Numero de cartas robadas por juego\n",
        "\n",
        "for i in range(n):\n",
        "  r.shuffle(baraja)             #Revuelve la baraja\n",
        "  mano = [7,7,5]                #Mano del jugador\n",
        "  crob = 0                      #Cartas Robadas\n",
        "  f = 0                         #Indice de carta a robar\n",
        "\n",
        "  while sum(mano)<21:           #Si la mano no suma 21 o mas\n",
        "\n",
        "    mano.append(baraja[f])      #Agrega a la mano la carta con indice f de la baraja\n",
        "    f += 1                      #Incrementa el indice\n",
        "    crob += 1                   #Aumenta las cartas robadas\n",
        "\n",
        "  if sum(mano)==21:             #Si la mano suma 21\n",
        "   \n",
        "    contador += 1               #Aumenta el numero de juegos con 21\n",
        "    promedio += crob            #Aumenta el total de las cartas robadas\n",
        "    cpj.append(crob)            #Agrega el numero de cartas robadas a la lista\n",
        "\n",
        "print(\"Numero de juegos:\",n,\"\\n\\nLa probabilidad de conseguir 21:\",(contador/n)*100,\"%  ó  \",(contador/n))\n",
        "#print(\"Cartas para conseguir 21 (Promedio):\", promedio/contador)\n",
        "\n",
        "histo = sns.countplot(cpj, palette = \"ocean\")\n",
        "histo.set(title = \"Experimental Distribution\", xlabel = \"Numero de cartas\", ylabel = \"Numero de 21\")\n",
        "plt.show()"
      ],
      "execution_count": null,
      "outputs": [
        {
          "output_type": "stream",
          "text": [
            "Deck Español [1] o Deck Poker [2]: 1\n",
            "Numero de juegos: 10000 \n",
            "\n",
            "La probabilidad de conseguir 21: 9.48 %  ó   0.0948\n"
          ],
          "name": "stdout"
        },
        {
          "output_type": "display_data",
          "data": {
            "image/png": "[encoded data removed]",
            "text/plain": [
              "<Figure size 432x288 with 1 Axes>"
            ]
          },
          "metadata": {
            "tags": [],
            "needs_background": "light"
          }
        }
      ]
    },
    {
      "cell_type": "markdown",
      "metadata": {
        "id": "BMLceZcgB7J3",
        "colab_type": "text"
      },
      "source": [
        "# Punto 4"
      ]
    },
    {
      "cell_type": "markdown",
      "metadata": {
        "id": "nXXCMBPyJBvu",
        "colab_type": "text"
      },
      "source": [
        "Find remaining decks for Spanish and Poker card decks, with the number of cards according to the list below, with highest (hot deck) and lowest (cold deck) probabilities of getting 21 assuming that you have cards [7,7,5]. calculate the probabilities analytically and verify them with Montecarlo. Plot the experimental distribution of the numbers of card requires to complete 21 in 10000 simulations.\n",
        "\n",
        "1.   12 remaining cards – Alg Gr 1 -911\n",
        "2.   10 remaining cards- Alg Gr 1 -911"
      ]
    },
    {
      "cell_type": "code",
      "metadata": {
        "id": "BqWICddvJNB1",
        "colab_type": "code",
        "colab": {
          "base_uri": "https://localhost:8080/",
          "height": 811
        },
        "outputId": "05723151-61ce-4ead-d361-44011f6db3b1"
      },
      "source": [
        "n=6000                            #Numero de juegos\n",
        "\n",
        "contador1 = 0                     #Numero de juegos en los que se obtuvo 21\n",
        "contador2 = 0\n",
        "\n",
        "promedio1 = 0                     #Suma del numero de cartas robadas en todos los juegos\n",
        "promedio2 = 0\n",
        "\n",
        "barajaes = [1,2,3,4,5,6,7,8,9,10,11,12,\n",
        "            1,2,3,4,5,6,7,8,9,10,11,12,\n",
        "            1,2,3,4,5,6,7,8,9,10,11,12,\n",
        "            1,2,3,4,5,6,7,8,9,10,11,12]\n",
        "\n",
        "barajapk= [1,2,3,4,5,6,7,8,9,10,11,12,13,\n",
        "           1,2,3,4,5,6,7,8,9,10,11,12,13,\n",
        "           1,2,3,4,5,6,7,8,9,10,11,12,13,\n",
        "           1,2,3,4,5,6,7,8,9,10,11,12,13]\n",
        "\n",
        "hot_deck = [1,1,1,1,2,2,2,2]\n",
        "cold_deck = [2]\n",
        "\n",
        "opc = int(input(\"Deck Español [1] o Deck Poker [2]: \"))\n",
        "\n",
        "if opc==1:\n",
        "  baraja = barajaes\n",
        "else:\n",
        "  baraja = barajapk\n",
        "\n",
        "opc = int(input(\"Deck de 10 [1] o Deck de 12 [2]: \"))\n",
        "\n",
        "if opc==1:\n",
        "  opc = 10\n",
        "else:\n",
        "  opc = 12\n",
        "\n",
        "while(len(hot_deck)<opc):         #Llenado hot deck\n",
        "  x = r.choice(baraja)\n",
        "  if(x!=2 and x!=1):\n",
        "    hot_deck.append(x)\n",
        "\n",
        "while(len(cold_deck)<opc):        #Llenado cold deck\n",
        "  x = r.choice(baraja)\n",
        "  if(x!=2 and x!=1):\n",
        "    cold_deck.append(x)\n",
        "\n",
        "cpj1 = []                         #Numero de cartas robadas por juego\n",
        "cpj2 = []\n",
        "\n",
        "for i in range(n):\n",
        "  r.shuffle(hot_deck)             #Revuelve las barajas\n",
        "  r.shuffle(cold_deck)\n",
        "\n",
        "  mano1 = [7,7,5]                 #Manos del jugador\n",
        "  mano2 = [7,7,5]\n",
        "  crob1 = 3                       #Cartas Robadas\n",
        "  crob2 = 3\n",
        "  f = 0                           #Indice de carta a robar\n",
        "\n",
        "  while sum(mano1)<21:            #Si la mano no suma 21 o mas\n",
        "\n",
        "    mano1.append(hot_deck[f])     #Agrega a la mano la carta con indice f de la baraja\n",
        "    f += 1                        #Incrementa el indice\n",
        "    crob1 += 1                    #Aumenta las cartas robadas\n",
        "  \n",
        "  f = 0  \n",
        "\n",
        "  while sum(mano2)<21:            #Si la mano no suma 21 o mas\n",
        "\n",
        "    mano2.append(cold_deck[f])    #Agrega a la mano la carta con indice f de la baraja\n",
        "    f += 1                        #Incrementa el indice\n",
        "    crob2 += 1                    #Aumenta las cartas robadas\n",
        "\n",
        "  if sum(mano1)==21:              #Si la mano suma 21\n",
        "   \n",
        "    contador1 += 1                #Aumenta el numero de juegos con 21\n",
        "    promedio1 += crob1            #Aumenta el total de las cartas robadas\n",
        "    cpj1.append(crob1)            #Agrega el numero de cartas robadas a la lista\n",
        "\n",
        "  if sum(mano2)==21:              #Si la mano suma 21\n",
        "   \n",
        "    contador2 += 1                #Aumenta el numero de juegos con 21\n",
        "    promedio2 += crob2            #Aumenta el total de las cartas robadas\n",
        "    cpj2.append(crob2)            #Agrega el numero de cartas robadas a la lista\n",
        "\n",
        "print(\"\\n\")\n",
        "print(\"Numero de juegos:\",n,\"\\n\\nLa probabilidad de conseguir 21 con hot deck:\",(contador1/n)*100,\"%  ó  \",(contador1/n))\n",
        "print(\"Cartas para conseguir 21 (Promedio):\", promedio1/contador1)\n",
        "\n",
        "histo = sns.countplot(cpj1, palette = \"ocean\")\n",
        "histo.set(title = \"Numero de cartas que suman 21 por ronda\", xlabel = \"Numero de cartas\", ylabel = \"Numero de 21\")\n",
        "plt.show()\n",
        "\n",
        "print(\"\\n\")\n",
        "print(\"\\n\\nLa probabilidad de conseguir 21 con cold deck:\",(contador2/n)*100,\"%  ó  \",(contador2/n))\n",
        "print(\"Cartas para conseguir 21 (Promedio):\", promedio2/contador2)\n",
        "\n",
        "histo = sns.countplot(cpj2, palette = \"ocean\")\n",
        "histo.set(title = \"Experimental Distribution\", xlabel = \"Numero de cartas\", ylabel = \"Numero de 21\")\n",
        "plt.show()\n",
        "\n"
      ],
      "execution_count": null,
      "outputs": [
        {
          "output_type": "stream",
          "text": [
            "Deck Español [1] o Deck Poker [2]: 1\n",
            "Deck de 10 [1] o Deck de 12 [2]: 1\n",
            "\n",
            "\n",
            "Numero de juegos: 6000 \n",
            "\n",
            "La probabilidad de conseguir 21 con hot deck: 53.78333333333334 %  ó   0.5378333333333334\n",
            "Cartas para conseguir 21 (Promedio): 4.24295010845987\n"
          ],
          "name": "stdout"
        },
        {
          "output_type": "display_data",
          "data": {
            "image/png": "[encoded data removed]",
            "text/plain": [
              "<Figure size 432x288 with 1 Axes>"
            ]
          },
          "metadata": {
            "tags": [],
            "needs_background": "light"
          }
        },
        {
          "output_type": "stream",
          "text": [
            "\n",
            "\n",
            "\n",
            "\n",
            "La probabilidad de conseguir 21 con cold deck: 10.016666666666667 %  ó   0.10016666666666667\n",
            "Cartas para conseguir 21 (Promedio): 4.0\n"
          ],
          "name": "stdout"
        },
        {
          "output_type": "display_data",
          "data": {
            "image/png": "[encoded data removed]",
            "text/plain": [
              "<Figure size 432x288 with 1 Axes>"
            ]
          },
          "metadata": {
            "tags": [],
            "needs_background": "light"
          }
        }
      ]
    },
    {
      "cell_type": "markdown",
      "metadata": {
        "id": "IqnSmT39B_aq",
        "colab_type": "text"
      },
      "source": [
        "# Punto 5"
      ]
    },
    {
      "cell_type": "markdown",
      "metadata": {
        "id": "hD0dnRSOKe7A",
        "colab_type": "text"
      },
      "source": [
        "If Ben goes to Vegas every weekend (Friday, Saturday and Sunday), plays every weekend day 10 hours, each game takes 3 mins, he gets a remaining hot deck with probability 1/10, he bets $1000$ on hot decks and $10$ on cold decks. Pick the cards in the hot deck that you obtained in the previous quiz point 4. Asume that for cold decks the deck is the complete deck. What is the estimated amount of money that Ben wins or losses on a weekend estimated with 10 million simulations, with Spanish and Poker card decks? Plot the experimental distribution of the numbers of card requires to complete 21 in 10000 simulations."
      ]
    },
    {
      "cell_type": "code",
      "metadata": {
        "id": "xoanLkaLKf1G",
        "colab_type": "code",
        "colab": {
          "base_uri": "https://localhost:8080/",
          "height": 34
        },
        "outputId": "041dea4f-ef52-46ad-e852-83ecee1ba6f4"
      },
      "source": [
        "n=600*10000000                         #Numero de juegos\n",
        "contador1 = 0                     #Numero de juegos en los que se obtuvo 21\n",
        "contador2 = 0\n",
        "\n",
        "promedio1 = 0                     #Suma del numero de cartas robadas en todos los juegos\n",
        "promedio2 = 0\n",
        "\n",
        "barajaes = [1,2,3,4,  6,  8,9,10,11,12,\n",
        "            1,2,3,4,5,6,  8,9,10,11,12,\n",
        "            1,2,3,4,5,6,7,8,9,10,11,12,\n",
        "            1,2,3,4,5,6,7,8,9,10,11,12]\n",
        "\n",
        "barajapk= [1,2,3,4,  6,  8,9,10,11,12,13,\n",
        "           1,2,3,4,5,6,  8,9,10,11,12,13,\n",
        "           1,2,3,4,5,6,7,8,9,10,11,12,13,\n",
        "           1,2,3,4,5,6,7,8,9,10,11,12,13]\n",
        "\n",
        "hot_deck = [1,1,1,1,2,2,2,2]\n",
        "\n",
        "opc = int(input(\"Deck Español [1] o Deck Poker [2]: \"))\n",
        "\n",
        "if opc==1:\n",
        "  baraja = barajaes\n",
        "else:\n",
        "  baraja = barajapk\n",
        "\n",
        "while(len(hot_deck)<12):          #Llenado hot deck\n",
        "  x = r.choice(baraja)\n",
        "  if(x!=2 and x!=1):\n",
        "    hot_deck.append(x)\n",
        "\n",
        "cpj1 = []                         #Numero de cartas robadas por juego\n",
        "cpj2 = []\n",
        "\n",
        "gano = 0\n",
        "\n",
        "for i in range(int(n*0.1)):       #Se juega el 0.1 de las veces con el hot deck\n",
        "  r.shuffle(hot_deck)             #Revuelve la baraja\n",
        "  mano1 = [7,7,5]                 #Mano del jugador\n",
        "  crob1 = 3                       #Numero de cartas robadas\n",
        "  f = 0                           #Indice de carta a robar\n",
        "\n",
        "  while sum(mano1)<21:            #Si la mano no suma 21 o mas\n",
        "    \n",
        "    mano1.append(hot_deck[f])     #Agrega a la mano la carta con indice f de la baraja\n",
        "    f += 1                        #Incrementa el indice\n",
        "    crob1 += 1                    #Aumenta las cartas robadas\n",
        "\n",
        "  if sum(mano1)==21:              #Si la mano suma 21\n",
        "   \n",
        "    contador1 += 1                #Aumenta el numero de juegos con 21\n",
        "    gano += 1000                  #Aumenta el dinero ganado en 1000\n",
        "    promedio1 += crob1            #Aumenta el total de las cartas robadas\n",
        "    cpj1.append(crob1)            #Agrega el numero de cartas robadas a la lista\n",
        "  \n",
        "  if sum(mano1)>21:               #Si la mano no suma 21\n",
        "    gano -= 1000                  #Pierde 1000\n",
        "\n",
        "for i in range(int(n*0.9)):       #Se juega el 0.9 de las veces con el cold deck\n",
        "  r.shuffle(baraja)               #Revuelve la baraja\n",
        "  mano2 = [7,7,5]                 #Mano del jugador\n",
        "  crob2 = 3                       #Cartas Robadas\n",
        "  f = 0   \n",
        "\n",
        "  while sum(mano2)<21:            #Si la mano no suma 21 o mas\n",
        "\n",
        "    mano2.append(baraja[f])       #Agrega a la mano la carta con indice f de la baraja\n",
        "    f += 1                        #Incrementa el indice\n",
        "    crob2 += 1                    #Aumenta las cartas robadas\n",
        "\n",
        "  if sum(mano2)==21:              #Si la mano suma 21\n",
        "   \n",
        "    contador2 += 1                #Aumenta el numero de juegos con 21\n",
        "    gano += 10                    #Aumenta el dinero ganado en 10\n",
        "    promedio2 += crob2            #Aumenta el total de las cartas robadas\n",
        "    cpj2.append(crob2)            #Agrega el numero de cartas robadas a la lista\n",
        "  \n",
        "  if sum(mano1)>21:               #Si la mano no suma 21\n",
        "    gano -= 10                    #Pierde 10\n",
        "\n",
        "if gano<0:\n",
        "  print(\"\\n\\n Perdio:\", abs(gano), \"\\n\\n\")\n",
        "elif gano>0:\n",
        "  print(\"\\n\\n Gano:\", gano, \"\\n\\n\")\n",
        "else:\n",
        "  print(\"\\n\\n No gano ni perdio dinero\\n\\n\")\n",
        "#print(\"Numero de juegos:\",n,\"\\n\\nLa probabilidad de conseguir 21 con hot deck:\",(contador1/(n*0.1))*100,\"%  ó  \",(contador1/n))\n",
        "#print(\"Cartas para conseguir 21 (Promedio):\", promedio1/contador1)\n",
        "\n",
        "histo = sns.countplot(cpj1, palette = \"ocean\")\n",
        "histo.set(title = \"Experimental Distribution with hot-deck\", xlabel = \"Numero de cartas\", ylabel = \"Numero de 21\")\n",
        "plt.show()\n",
        "\n",
        "#print(\"\\n\")\n",
        "#print(\"\\nLa probabilidad de conseguir 21 con cold deck:\",(contador2/(n*0.9))*100,\"%  ó  \",(contador2/n))\n",
        "#print(\"Cartas para conseguir 21 (Promedio):\", promedio2/contador2)\n",
        "\n",
        "histo = sns.countplot(cpj2, palette = \"ocean\")\n",
        "histo.set(title = \"Experimental Distribution with cold-deck\", xlabel = \"Numero de cartas\", ylabel = \"Numero de 21\")\n",
        "plt.show()\n",
        "\n"
      ],
      "execution_count": null,
      "outputs": [
        {
          "output_type": "stream",
          "text": [
            "Deck Español [1] o Deck Poker [2]: 1\n"
          ],
          "name": "stdout"
        }
      ]
    },
    {
      "cell_type": "markdown",
      "metadata": {
        "id": "226C0AVCCBsi",
        "colab_type": "text"
      },
      "source": [
        "# Punto 6"
      ]
    },
    {
      "cell_type": "markdown",
      "metadata": {
        "id": "K-gAdGBiKvFQ",
        "colab_type": "text"
      },
      "source": [
        "Extra credit (one class participation) . Calculate the probabilities of hot decks with 12,10 and 8 cards you have the cards [7,7,5] and calculate the estimated amount of money that Ben wins or losses on a weekend estimated with 10 million simulations, with Spanish and Poker card decks with he corrected probability."
      ]
    },
    {
      "cell_type": "code",
      "metadata": {
        "id": "Dp6IbMB5iSgK",
        "colab_type": "code",
        "colab": {
          "base_uri": "https://localhost:8080/",
          "height": 482
        },
        "outputId": "ee7fab17-dc29-4e7e-dfd0-a55ad050bd76"
      },
      "source": [
        "n=10000000                        #Numero de juegos\n",
        "\n",
        "contador1 = 0                     #Numero de juegos en los que se obtuvo 21\n",
        "contador2 = 0\n",
        "\n",
        "promedio1 = 0                     #Suma del numero de cartas robadas en todos los juegos\n",
        "promedio2 = 0\n",
        "\n",
        "barajaes = [1,2,3,4,  6,  8,9,10,11,12,\n",
        "            1,2,3,4,5,6,  8,9,10,11,12,\n",
        "            1,2,3,4,5,6,7,8,9,10,11,12,\n",
        "            1,2,3,4,5,6,7,8,9,10,11,12]\n",
        "\n",
        "barajapk= [1,2,3,4,  6,  8,9,10,11,12,13,\n",
        "           1,2,3,4,5,6,  8,9,10,11,12,13,\n",
        "           1,2,3,4,5,6,7,8,9,10,11,12,13,\n",
        "           1,2,3,4,5,6,7,8,9,10,11,12,13]\n",
        "\n",
        "hot_deck = [1,1,1,1,2,2,2,2]\n",
        "\n",
        "opc = int(input(\"Deck Español [1] o Deck Poker [2]: \"))\n",
        "\n",
        "if opc==1:\n",
        "  baraja = barajaes\n",
        "else:\n",
        "  baraja = barajapk\n",
        "\n",
        "opc = int(input(\"Deck de 10 [1] o Deck de 12 [2] o Deck de 8 [3]: \"))\n",
        "\n",
        "if opc==1:\n",
        "  opc = 10\n",
        "elif opc==2:\n",
        "  opc = 12\n",
        "else:\n",
        "  opc = 8\n",
        "\n",
        "while(len(hot_deck)<opc):         #Llenado hot deck\n",
        "  x = r.choice(baraja)\n",
        "  if(x!=2 and x!=1):\n",
        "    hot_deck.append(x)\n",
        "\n",
        "cpj1 = []\n",
        "cpj2 = []\n",
        "\n",
        "gano = 0\n",
        "\n",
        "for i in range(int(n*0.1)):\n",
        "  r.shuffle(hot_deck)             #Revuelve la baraja\n",
        "  mano1 = [7,7,5]                 #Mano del jugador\n",
        "  crob1 = 3                       #Cartas robadas\n",
        "  f = 0                           #Indice de carta a robar\n",
        "\n",
        "  while sum(mano1)<21:            #Si la mano no suma 21 o mas\n",
        "    \n",
        "    mano1.append(hot_deck[f])     #Agrega a la mano la carta con indice f de la baraja\n",
        "    f += 1                        #Incrementa el indice\n",
        "    crob1 += 1                    #Aumenta las cartas robadas\n",
        "\n",
        "  if sum(mano1)==21:              #Si la mano suma 21\n",
        "   \n",
        "    contador1 += 1                #Aumenta el numero de juegos con 21\n",
        "    gano += 1000                  #Aumenta el dinero ganado en 1000\n",
        "    promedio1 += crob1            #Aumenta el total de las cartas robadas\n",
        "    cpj1.append(crob1)            #Agrega el numero de cartas robadas a la lista\n",
        "  \n",
        "  if sum(mano1)>21:               #Si la mano suma mas de 21\n",
        "    gano -= 1000                  #Pierde 1000\n",
        "\n",
        "for i in range(int(n*0.9)):\n",
        "  r.shuffle(baraja)               #Revuelve la baraja\n",
        "  mano2 = [7,7,5]                 #Mano del jugador\n",
        "  crob2 = 3                       #Cartas Robadas\n",
        "  f = 0                           #Indice de carta a robar\n",
        "\n",
        "  while sum(mano2)<21:            #Si la mano no suma 21 o mas\n",
        "\n",
        "    mano2.append(baraja[f])       #Agrega a la mano la carta con indice f de la baraja\n",
        "    f += 1                        #Incrementa el indice\n",
        "    crob2 += 1                    #Aumenta las cartas robadas\n",
        "\n",
        "  if sum(mano2)==21:              #Si la mano suma 21\n",
        "   \n",
        "    contador2 += 1                #Aumenta el numero de juegos con 21\n",
        "    gano += 10                    #Aumenta el dinero ganado en 10\n",
        "    promedio2 += crob2            #Aumenta el total de las cartas robadas\n",
        "    cpj2.append(crob2)            #Agrega el numero de cartas robadas a la lista\n",
        "  \n",
        "  if sum(mano1)>21:               #Si la mano suma mas de 21\n",
        "    gano -= 10                    #Pierde 10\n",
        "\n",
        "print(\"Numero de juegos:\",n)\n",
        "\n",
        "if gano<0:\n",
        "  print(\"\\n\\n Perdio:\", abs(gano), \"\\n\\n\")\n",
        "elif gano>0:\n",
        "  print(\"\\n\\n Gano:\", gano, \"\\n\")\n",
        "else:\n",
        "  print(\"\\n\\n No gano ni perdio dinero\\n\\n\")\n",
        "\n",
        "print(\"\\n\\nLa probabilidad de conseguir 21 con hot deck:\",(contador1/(n*0.1))*100,\"%  ó  \",(contador1/n))\n",
        "#print(\"Cartas para conseguir 21 (Promedio):\", promedio1/contador1)\n",
        "\n",
        "histo = sns.countplot(cpj1, palette = \"ocean\")\n",
        "histo.set(title = \"Experimental distribution\", xlabel = \"Numero de cartas\", ylabel = \"Numero de 21\")\n",
        "plt.show()\n",
        "\n",
        "\n",
        "#print(\"\\n\")\n",
        "#print(\"Numero de juegos:\",n,\"\\nProbabilidad de conseguir 21 con cold deck:\",(contador2/(n*0.9))*100,\"%  ó  \",(contador2/n))\n",
        "#print(\"Cartas para conseguir 21 (Promedio):\", promedio2/contador2)\n",
        "\n",
        "#histo = sns.countplot(cpj2, palette = \"ocean\")\n",
        "#histo.set(title = \"Numero de cartas que suman 21 por ronda\", xlabel = \"Numero de cartas\", ylabel = \"Numero de 21\")\n",
        "#plt.show()\n",
        "\n",
        "\n"
      ],
      "execution_count": null,
      "outputs": [
        {
          "output_type": "stream",
          "text": [
            "Deck Español [1] o Deck Poker [2]: 1\n",
            "Deck de 10 [1] o Deck de 12 [2] o Deck de 8 [3]: 1\n",
            "Numero de juegos: 10000000\n",
            "\n",
            "\n",
            " Perdio: 14057180 \n",
            "\n",
            "\n",
            "\n",
            "\n",
            "La probabilidad de conseguir 21 con hot deck: 53.3695 %  ó   0.0533695\n"
          ],
          "name": "stdout"
        },
        {
          "output_type": "display_data",
          "data": {
            "image/png": "[encoded data removed]",
            "text/plain": [
              "<Figure size 432x288 with 1 Axes>"
            ]
          },
          "metadata": {
            "tags": [],
            "needs_background": "light"
          }
        }
      ]
    }
  ]
}