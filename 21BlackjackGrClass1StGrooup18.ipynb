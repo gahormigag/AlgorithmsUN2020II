{
  "nbformat": 4,
  "nbformat_minor": 0,
  "metadata": {
    "colab": {
      "name": "21BlackjackGrClass1StGrooup18.ipynb",
      "provenance": [],
      "collapsed_sections": [
        "FifJfIHri2yr",
        "11ztfN3EjKS2",
        "o15qVZUsB1si",
        "BMLceZcgB7J3",
        "IqnSmT39B_aq",
        "226C0AVCCBsi",
        "UIANiPooWYT1"
      ]
    },
    "kernelspec": {
      "name": "python3",
      "display_name": "Python 3"
    }
  },
  "cells": [
    {
      "cell_type": "code",
      "metadata": {
        "id": "gWYXauBUiyLy",
        "outputId": "20f7b3e8-ba13-47b7-9f95-7370a98419c4",
        "colab": {
          "base_uri": "https://localhost:8080/",
          "height": 51
        }
      },
      "source": [
        "import random as r\n",
        "import matplotlib.pyplot as plt\n",
        "import pandas as pd\n",
        "import seaborn as sns"
      ],
      "execution_count": null,
      "outputs": [
        {
          "output_type": "stream",
          "text": [
            "/usr/local/lib/python3.6/dist-packages/statsmodels/tools/_testing.py:19: FutureWarning: pandas.util.testing is deprecated. Use the functions in the public API at pandas.testing instead.\n",
            "  import pandas.util.testing as tm\n"
          ],
          "name": "stderr"
        }
      ]
    },
    {
      "cell_type": "markdown",
      "metadata": {
        "id": "FifJfIHri2yr"
      },
      "source": [
        "# Punto 1"
      ]
    },
    {
      "cell_type": "markdown",
      "metadata": {
        "id": "u7G3rF3KEhpS"
      },
      "source": [
        "Estimate the probability of getting a 21, the average number of cards required to complete 21 and plot the experimental distribution of the number of card required to complete 21 drawing cards sequentially from a shuffled Spanish 48-card deck with card values [1,2,3,4,5,6,7,10,11,12,1,2,3,4,5,6,7,8,9,10,11,12,1,2,3,4,5,6,7,8,9,10,11,12,1,2,3,4,5,6,7,8,9,10,11,12] and from a shuffled Poker 52-card with card values [1,2,3,4,5,6,7,8,9,10,11,12,13,1,2,3,4,5,6,7,8,9,10,11,12,13,1,2,3,4,5,6,7,8,9,10,11,12,13,1,2,3,4,5,6,7,8,9,10,11,12,13] using Montecarlo with 10 millions simulations."
      ]
    },
    {
      "cell_type": "code",
      "metadata": {
        "id": "DuJb_2RPS2MA",
        "outputId": "dd4de395-c5fa-4875-bffb-991720703c1b",
        "colab": {
          "base_uri": "https://localhost:8080/",
          "height": 34
        }
      },
      "source": [
        "barajaes = [1,2,3,4,5,6,7,8,9,10,11,12,\n",
        "            1,2,3,4,5,6,7,8,9,10,11,12,\n",
        "            1,2,3,4,5,6,7,8,9,10,11,12,\n",
        "            1,2,3,4,5,6,7,8,9,10,11,12]\n",
        "\n",
        "barajapk= [1,2,3,4,5,6,7,8,9,10,11,12,13,\n",
        "           1,2,3,4,5,6,7,8,9,10,11,12,13,\n",
        "           1,2,3,4,5,6,7,8,9,10,11,12,13,\n",
        "           1,2,3,4,5,6,7,8,9,10,11,12,13]\n",
        "\n",
        "opc = int(input(\"Deck Español [1] o Deck Poker [2]: \"))\n",
        "\n",
        "n=10000000                      #Numero de juegos\n",
        "contador =0                     #Numero de juegos en los que se obtuvo 21\n",
        "promedio = 0                    #Suma del numero de cartas robadas en todos los juegos\n",
        "\n",
        "if opc==1:\n",
        "  baraja = barajaes\n",
        "else:\n",
        "  baraja = barajapk\n",
        "\n",
        "cpj = []                        #Numero de cartas robadas por juego\n",
        "\n",
        "for i in range(n):\n",
        "  r.shuffle(baraja)             #Revuelve la baraja\n",
        "  mano = []                     #Mano del jugador\n",
        "  crob = 0                      #Cartas Robadas\n",
        "  f = 0                         #Indice de carta a robar\n",
        "\n",
        "  while sum(mano)<21:           #Si la mano no suma 21 o mas\n",
        "\n",
        "    mano.append(baraja[f])      #Agrega a la mano la carta con indice f de la baraja\n",
        "    f += 1                      #Incrementa el indice\n",
        "    crob += 1                   #Aumenta las cartas robadas\n",
        "\n",
        "  if sum(mano)==21:             #Si la mano suma 21\n",
        "   \n",
        "    contador += 1               #Aumenta el numero de juegos con 21\n",
        "    promedio += crob            #Aumenta el total de las cartas robadas\n",
        "    cpj.append(crob)            #Agrega el numero de cartas robadas a la lista\n"
      ],
      "execution_count": null,
      "outputs": [
        {
          "output_type": "stream",
          "text": [
            "Deck Español [1] o Deck Poker [2]: 1\n"
          ],
          "name": "stdout"
        }
      ]
    },
    {
      "cell_type": "markdown",
      "metadata": {
        "id": "gXsVaA8e58tI"
      },
      "source": [
        "# Baraja española:"
      ]
    },
    {
      "cell_type": "code",
      "metadata": {
        "id": "WSYJ97wN53Ou",
        "outputId": "1b3e17c1-bbeb-4a0e-e517-247979c701a1",
        "colab": {
          "base_uri": "https://localhost:8080/",
          "height": 380
        }
      },
      "source": [
        "print(\"Numero de juegos:\",n,\"\\n\\nLa probabilidad de conseguir 21 es\",(contador/n)*100,\"%  ó  \",(contador/n))\n",
        "print(\"Cartas para conseguir 21 (Promedio):\", promedio/contador,\"\\n\")\n",
        "\n",
        "histo = sns.countplot(cpj, palette = \"ocean\")\n",
        "histo.set(title = \"Experimental Distribution\", xlabel = \"Numero de cartas\", ylabel = \"Numero de 21\")\n",
        "plt.show()"
      ],
      "execution_count": null,
      "outputs": [
        {
          "output_type": "stream",
          "text": [
            "Numero de juegos: 10000000 \n",
            "\n",
            "La probabilidad de conseguir 21 es 15.804260000000001 %  ó   0.1580426\n",
            "Cartas para conseguir 21 (Promedio): 3.4173115349911987 \n",
            "\n"
          ],
          "name": "stdout"
        },
        {
          "output_type": "display_data",
          "data": {
            "image/png": "[encoded data removed]",
            "text/plain": [
              "<Figure size 432x288 with 1 Axes>"
            ]
          },
          "metadata": {
            "tags": [],
            "needs_background": "light"
          }
        }
      ]
    },
    {
      "cell_type": "markdown",
      "metadata": {
        "id": "3f3Typi36Cas"
      },
      "source": [
        "Baraja de poker"
      ]
    },
    {
      "cell_type": "code",
      "metadata": {
        "id": "2ns7xwVs6EiZ",
        "outputId": "fe2c7cda-9714-4e54-98ef-f97a98349aac",
        "colab": {
          "base_uri": "https://localhost:8080/",
          "height": 380
        }
      },
      "source": [
        "print(\"Numero de juegos:\",n,\"\\n\\nLa probabilidad de conseguir 21 es\",(contador/n)*100,\"%  ó  \",(contador/n))\n",
        "print(\"Cartas para conseguir 21 (Promedio):\", promedio/contador,\"\\n\")\n",
        "\n",
        "histo = sns.countplot(cpj, palette = \"ocean\")\n",
        "histo.set(title = \"Experimental Distribution\", xlabel = \"Numero de cartas\", ylabel = \"Numero de 21\")\n",
        "plt.show()"
      ],
      "execution_count": null,
      "outputs": [
        {
          "output_type": "stream",
          "text": [
            "Numero de juegos: 10000000 \n",
            "\n",
            "La probabilidad de conseguir 21 es 14.46011 %  ó   0.1446011\n",
            "Cartas para conseguir 21 (Promedio): 3.215739714289864 \n",
            "\n"
          ],
          "name": "stdout"
        },
        {
          "output_type": "display_data",
          "data": {
            "image/png": "[encoded data removed]",
            "text/plain": [
              "<Figure size 432x288 with 1 Axes>"
            ]
          },
          "metadata": {
            "tags": [],
            "needs_background": "light"
          }
        }
      ]
    },
    {
      "cell_type": "markdown",
      "metadata": {
        "id": "11ztfN3EjKS2"
      },
      "source": [
        "# Punto 2"
      ]
    },
    {
      "cell_type": "markdown",
      "metadata": {
        "id": "o2_zTqFDEmq5"
      },
      "source": [
        "Estimate the probability of getting a 21, the average number of cards required to complete 21 and plot the experimental distribution of the number of card required to complete 21 drawing cards sequentially from a shuffled Spanish 48-card deck with card values [1,2,3,4,5,6,7,10,10,10,1,2,3,4,5,6,7,8,9,10,10,10,1,2,3,4,5,6,7,8,9,10,10,10,1,2,3,4,5,6,7,8,9,10,10,10] and from a shuffled Poker 52-card deck with card values [1,2,3,4,5,6,7,8,9,10,11,12,13,1,2,3,4,5,6,7,8,9,10,10,10,10,1,2,3,4,5,6,7,8,9,10,10,10,10,1,2,3,4,5,6,7,8,9,10,10,10,10] using Montecarlo with 10 millions simulations."
      ]
    },
    {
      "cell_type": "code",
      "metadata": {
        "id": "N6l-8DJfjKS4",
        "outputId": "aad3e88f-6f3f-4eba-86b1-38e35b3d640d",
        "colab": {
          "base_uri": "https://localhost:8080/",
          "height": 34
        }
      },
      "source": [
        "barajaes = [1,2,3,4,5,6,7,8,9,10,10,10,\n",
        "            1,2,3,4,5,6,7,8,9,10,10,10,\n",
        "            1,2,3,4,5,6,7,8,9,10,10,10,\n",
        "            1,2,3,4,5,6,7,8,9,10,10,10]\n",
        "\n",
        "barajapk= [1,2,3,4,5,6,7,8,9,10,10,10,10,\n",
        "           1,2,3,4,5,6,7,8,9,10,10,10,10,\n",
        "           1,2,3,4,5,6,7,8,9,10,10,10,10,\n",
        "           1,2,3,4,5,6,7,8,9,10,10,10,10]\n",
        "\n",
        "opc = int(input(\"Deck con tres 10 [1] o Deck con cuatro 10 [2]: \"))\n",
        "\n",
        "n=10000000                      #Numero de juegos\n",
        "contador =0                     #Numero de juegos en los que se obtuvo 21\n",
        "promedio = 0                    #Suma del numero de cartas robadas en todos los juegos\n",
        "\n",
        "if opc==1:\n",
        "  baraja = barajaes\n",
        "else:\n",
        "  baraja = barajapk\n",
        "\n",
        "cpj = []                        #Numero de cartas robadas por juego\n",
        "\n",
        "for i in range(n):\n",
        "  r.shuffle(baraja)             #Revuelve la baraja\n",
        "  mano = []                     #Mano del jugador\n",
        "  crob = 0                      #Cartas Robadas\n",
        "  f = 0                         #Indice de carta a robar\n",
        "\n",
        "  while sum(mano)<21:           #Si la mano no suma 21 o mas\n",
        "\n",
        "    mano.append(baraja[f])      #Agrega a la mano la carta con indice f de la baraja\n",
        "    f += 1                      #Incrementa el indice\n",
        "    crob += 1                   #Aumenta las cartas robadas\n",
        "\n",
        "  if sum(mano)==21:             #Si la mano suma 21\n",
        "   \n",
        "    contador += 1               #Aumenta el numero de juegos con 21\n",
        "    promedio += crob            #Aumenta el total de las cartas robadas\n",
        "    cpj.append(crob)            #Agrega el numero de cartas robadas a la lista\n"
      ],
      "execution_count": null,
      "outputs": [
        {
          "output_type": "stream",
          "text": [
            "Deck con tres 10 [1] o Deck con cuatro 10 [2]: 2\n"
          ],
          "name": "stdout"
        }
      ]
    },
    {
      "cell_type": "markdown",
      "metadata": {
        "id": "vaO7HS0RBGRK"
      },
      "source": [
        "Baraja con tres 10:"
      ]
    },
    {
      "cell_type": "code",
      "metadata": {
        "id": "hpFLM_L7BQUI",
        "outputId": "70d47212-1dd7-460c-d531-a3ead0008302",
        "colab": {
          "base_uri": "https://localhost:8080/",
          "height": 363
        }
      },
      "source": [
        "print(\"Numero de juegos:\",n,\"\\n\\nLa probabilidad de conseguir 21:\",(contador/n)*100,\"%  ó  \",(contador/n))\n",
        "print(\"Cartas para conseguir 21 (Promedio):\", promedio/contador)\n",
        "\n",
        "histo = sns.countplot(cpj, palette = \"ocean\")\n",
        "histo.set(title = \"Experimental Distribution\", xlabel = \"Numero de cartas\", ylabel = \"Numero de 21\")\n",
        "plt.show()"
      ],
      "execution_count": null,
      "outputs": [
        {
          "output_type": "stream",
          "text": [
            "Numero de juegos: 10000000 \n",
            "\n",
            "La probabilidad de conseguir 21: 14.96025 %  ó   0.1496025\n",
            "Cartas para conseguir 21 (Promedio): 3.698969602780702\n"
          ],
          "name": "stdout"
        },
        {
          "output_type": "display_data",
          "data": {
            "image/png": "[encoded data removed]",
            "text/plain": [
              "<Figure size 432x288 with 1 Axes>"
            ]
          },
          "metadata": {
            "tags": [],
            "needs_background": "light"
          }
        }
      ]
    },
    {
      "cell_type": "markdown",
      "metadata": {
        "id": "GMb_yuoMBQ9v"
      },
      "source": [
        "Baraja con cuatro 10:"
      ]
    },
    {
      "cell_type": "code",
      "metadata": {
        "id": "nUlnh990BTOZ",
        "outputId": "5d9c2f51-e458-4e2e-cdfd-01135500a7e0",
        "colab": {
          "base_uri": "https://localhost:8080/",
          "height": 363
        }
      },
      "source": [
        "print(\"Numero de juegos:\",n,\"\\n\\nLa probabilidad de conseguir 21:\",(contador/n)*100,\"%  ó  \",(contador/n))\n",
        "print(\"Cartas para conseguir 21 (Promedio):\", promedio/contador)\n",
        "\n",
        "histo = sns.countplot(cpj, palette = \"ocean\")\n",
        "histo.set(title = \"Experimental Distribution\", xlabel = \"Numero de cartas\", ylabel = \"Numero de 21\")\n",
        "plt.show()"
      ],
      "execution_count": null,
      "outputs": [
        {
          "output_type": "stream",
          "text": [
            "Numero de juegos: 10000000 \n",
            "\n",
            "La probabilidad de conseguir 21: 14.01539 %  ó   0.1401539\n",
            "Cartas para conseguir 21 (Promedio): 3.576626123140348\n"
          ],
          "name": "stdout"
        },
        {
          "output_type": "display_data",
          "data": {
            "image/png": "[encoded data removed]",
            "text/plain": [
              "<Figure size 432x288 with 1 Axes>"
            ]
          },
          "metadata": {
            "tags": [],
            "needs_background": "light"
          }
        }
      ]
    },
    {
      "cell_type": "markdown",
      "metadata": {
        "id": "o15qVZUsB1si"
      },
      "source": [
        "# Punto 3"
      ]
    },
    {
      "cell_type": "markdown",
      "metadata": {
        "id": "FpAUIM3FEpzZ"
      },
      "source": [
        "Estimate the probability of getting a 21, the average total number of cards required to complete 21 (including the three that you start with) and plot the experimental distribution of the number of card required to complete 21 with drawing cards sequentially from a shuffled Spanish 48-card deck with 3 10’s and a shuffled Poker 52-card deck with 4 10’s, assuming that you have in your hand the cards [7,7,5]ae and the remaining deck has n/2 cards. You can pick the n/2 cards in the remaining deck in whatever way you choose but with restriction that this has maximum two 7s and three 5, you have to keep the remaining deck fixed through the simulations, use Montecarlo with 10 millions simulations."
      ]
    },
    {
      "cell_type": "code",
      "metadata": {
        "id": "ZaU4naUeErGD",
        "outputId": "c6fec122-42e2-4bf2-97d2-af71defcfff4",
        "colab": {
          "base_uri": "https://localhost:8080/",
          "height": 34
        }
      },
      "source": [
        "n=10000000                         #Numero de juegos\n",
        "contador =0                     #Numero de juegos en los que se obtuvo 21\n",
        "promedio = 0                    #Suma del numero de cartas robadas en todos los juegos\n",
        "\n",
        "barajaes = [1,2,3,4,  6,  8,9,10,10,10,\n",
        "            1,2,3,4,5,6,  8,9,10,10,10,\n",
        "            1,2,3,4,5,6,7,8,9,10,10,10,\n",
        "            1,2,3,4,5,6,7,8,9,10,10,10]\n",
        "\n",
        "barajapk= [1,2,3,4,  6,  8,9,10,10,10,10,\n",
        "           1,2,3,4,5,6,  8,9,10,10,10,10,\n",
        "           1,2,3,4,5,6,7,8,9,10,10,10,10,\n",
        "           1,2,3,4,5,6,7,8,9,10,10,10,10]\n",
        "\n",
        "media_baraja = []\n",
        "\n",
        "opc = int(input(\"Deck Español [1] o Deck Poker [2]: \"))\n",
        "\n",
        "if opc==1:\n",
        "  baraja = barajaes\n",
        "else:\n",
        "  baraja = barajapk\n",
        "\n",
        "x = int((len(baraja)-1)/2)\n",
        "\n",
        "for i in range(0,x):        #Divide baraja a la mitad\n",
        "  media_baraja.append(r.choice(baraja))\n",
        "\n",
        "cpj = []                        #Numero de cartas robadas por juego\n",
        "\n",
        "for i in range(n):\n",
        "  r.shuffle(baraja)             #Revuelve la baraja\n",
        "  mano = [7,7,5]                #Mano del jugador\n",
        "  crob = 3                      #Cartas Robadas\n",
        "  f = 0                         #Indice de carta a robar\n",
        "\n",
        "  while sum(mano)<21:           #Si la mano no suma 21 o mas\n",
        "\n",
        "    mano.append(baraja[f])      #Agrega a la mano la carta con indice f de la baraja\n",
        "    f += 1                      #Incrementa el indice\n",
        "    crob += 1                   #Aumenta las cartas robadas\n",
        "\n",
        "  if sum(mano)==21:             #Si la mano suma 21\n",
        "   \n",
        "    contador += 1               #Aumenta el numero de juegos con 21\n",
        "    promedio += crob            #Aumenta el total de las cartas robadas\n",
        "    cpj.append(crob)            #Agrega el numero de cartas robadas a la lista\n"
      ],
      "execution_count": 15,
      "outputs": [
        {
          "output_type": "stream",
          "text": [
            "Deck Español [1] o Deck Poker [2]: 1\n"
          ],
          "name": "stdout"
        }
      ]
    },
    {
      "cell_type": "markdown",
      "metadata": {
        "id": "CnNVpHa5Fbi2"
      },
      "source": [
        "Deck español:"
      ]
    },
    {
      "cell_type": "code",
      "metadata": {
        "id": "jEV2GKyzFdMA",
        "outputId": "26f9df35-136a-48e3-e8a1-91adfa3ce8c5",
        "colab": {
          "base_uri": "https://localhost:8080/",
          "height": 363
        }
      },
      "source": [
        "print(\"Numero de juegos:\",n,\"\\n\\nLa probabilidad de conseguir 21:\",(contador/n)*100,\"%  ó  \",(contador/n))\n",
        "print(\"Cartas para conseguir 21 (Promedio):\", promedio/contador)\n",
        "\n",
        "histo = sns.countplot(cpj, palette = \"ocean\")\n",
        "histo.set(title = \"Experimental Distribution\", xlabel = \"Numero de cartas\", ylabel = \"Numero de 21\")\n",
        "plt.show()"
      ],
      "execution_count": 16,
      "outputs": [
        {
          "output_type": "stream",
          "text": [
            "Numero de juegos: 10000000 \n",
            "\n",
            "La probabilidad de conseguir 21: 9.49127 %  ó   0.0949127\n",
            "Cartas para conseguir 21 (Promedio): 4.0635784252265506\n"
          ],
          "name": "stdout"
        },
        {
          "output_type": "display_data",
          "data": {
            "image/png": "[encoded data removed]",
            "text/plain": [
              "<Figure size 432x288 with 1 Axes>"
            ]
          },
          "metadata": {
            "tags": [],
            "needs_background": "light"
          }
        }
      ]
    },
    {
      "cell_type": "markdown",
      "metadata": {
        "id": "yGvFWmnUFd5f"
      },
      "source": [
        "Deck de poker:"
      ]
    },
    {
      "cell_type": "code",
      "metadata": {
        "id": "vDCrI9EAFfUg",
        "outputId": "6652d1a0-f9d9-4f90-c6ac-6d879eb7f4cb",
        "colab": {
          "base_uri": "https://localhost:8080/",
          "height": 363
        }
      },
      "source": [
        "print(\"Numero de juegos:\",n,\"\\n\\nLa probabilidad de conseguir 21:\",(contador/n)*100,\"%  ó  \",(contador/n))\n",
        "print(\"Cartas para conseguir 21 (Promedio):\", promedio/contador)\n",
        "\n",
        "histo = sns.countplot(cpj, palette = \"ocean\")\n",
        "histo.set(title = \"Experimental Distribution\", xlabel = \"Numero de cartas\", ylabel = \"Numero de 21\")\n",
        "plt.show()"
      ],
      "execution_count": 14,
      "outputs": [
        {
          "output_type": "stream",
          "text": [
            "Numero de juegos: 10000000 \n",
            "\n",
            "La probabilidad de conseguir 21: 8.67164 %  ó   0.0867164\n",
            "Cartas para conseguir 21 (Promedio): 4.058897740219843\n"
          ],
          "name": "stdout"
        },
        {
          "output_type": "display_data",
          "data": {
            "image/png": "[encoded data removed]",
            "text/plain": [
              "<Figure size 432x288 with 1 Axes>"
            ]
          },
          "metadata": {
            "tags": [],
            "needs_background": "light"
          }
        }
      ]
    },
    {
      "cell_type": "markdown",
      "metadata": {
        "id": "BMLceZcgB7J3"
      },
      "source": [
        "# Punto 4"
      ]
    },
    {
      "cell_type": "markdown",
      "metadata": {
        "id": "nXXCMBPyJBvu"
      },
      "source": [
        "Find two remaining decks with 12 cards for Alg Gr 1 9-11 and with 10 cards for Alg Gr 2 11-1 s; for a Spanish 48-card deck with 3 10’s and for a Poker 52-card deck with 4 10’s; one remaining deck with 8 cards that has the highest probability of getting 21 (hot deck) and the other remaining deck with 8 cards that has the lowest probability of getting 21(cold deck). Assuming that you have in your hand the cards [7,7,5], calculate analytically the probabilities of getting a 21 for both the hot an cold deck, estimate this probabilities of getting a 21, the average total number of cards required to complete 21 (including the three that you start with) and plot the experimental distribution of the total number of card required to complete 21 (including the three that you start with) using Montecarlo with 10 millions simulations."
      ]
    },
    {
      "cell_type": "code",
      "metadata": {
        "id": "BqWICddvJNB1",
        "outputId": "ad2d6b34-1c5d-47e5-ecc5-2124a8855c40",
        "colab": {
          "base_uri": "https://localhost:8080/",
          "height": 102
        }
      },
      "source": [
        "barajaes = [1,2,3,4,  6,  8,9,10,10,10,\n",
        "            1,2,3,4,5,6,  8,9,10,10,10,\n",
        "            1,2,3,4,5,6,7,8,9,10,10,10,\n",
        "            1,2,3,4,5,6,7,8,9,10,10,10]\n",
        "\n",
        "barajapk= [1,2,3,4,  6,  8,9,10,10,10,10,\n",
        "           1,2,3,4,5,6,  8,9,10,10,10,10,\n",
        "           1,2,3,4,5,6,7,8,9,10,10,10,10,\n",
        "           1,2,3,4,5,6,7,8,9,10,10,10,10]\n",
        "\n",
        "hot_deck = [1,1,1,1,2,2,2,2]\n",
        "cold_deck = [2]\n",
        "\n",
        "opc = int(input(\"Deck Español [1] o Deck Poker [2]: \"))\n",
        "\n",
        "n=10000000                        #Numero de juegos\n",
        "\n",
        "contador1 = 0                     #Numero de juegos en los que se obtuvo 21\n",
        "contador2 = 0\n",
        "\n",
        "promedio1 = 0                     #Suma del numero de cartas robadas en todos los juegos\n",
        "promedio2 = 0\n",
        "\n",
        "if opc==1:\n",
        "  baraja = barajaes\n",
        "else:\n",
        "  baraja = barajapk\n",
        "\n",
        "while(len(hot_deck)<12):         #Llenado hot deck\n",
        "  x = r.choice(baraja)\n",
        "  if(x!=2 and x!=1):\n",
        "    hot_deck.append(x)\n",
        "\n",
        "while(len(cold_deck)<12):        #Llenado cold deck\n",
        "  x = r.choice(baraja)\n",
        "  if(x!=2 and x!=1):\n",
        "    cold_deck.append(x)\n",
        "\n",
        "cpj1 = []                         #Numero de cartas robadas por juego\n",
        "cpj2 = []\n",
        "\n",
        "for i in range(n):\n",
        "  r.shuffle(hot_deck)             #Revuelve las barajas\n",
        "  r.shuffle(cold_deck)\n",
        "\n",
        "  mano1 = [7,7,5]                 #Manos del jugador\n",
        "  mano2 = [7,7,5]\n",
        "  crob1 = 3                       #Cartas Robadas\n",
        "  crob2 = 3\n",
        "  f = 0                           #Indice de carta a robar\n",
        "\n",
        "  while sum(mano1)<21:            #Si la mano no suma 21 o mas\n",
        "\n",
        "    mano1.append(hot_deck[f])     #Agrega a la mano la carta con indice f de la baraja\n",
        "    f += 1                        #Incrementa el indice\n",
        "    crob1 += 1                    #Aumenta las cartas robadas\n",
        "  \n",
        "  f = 0  \n",
        "\n",
        "  while sum(mano2)<21:            #Si la mano no suma 21 o mas\n",
        "\n",
        "    mano2.append(cold_deck[f])    #Agrega a la mano la carta con indice f de la baraja\n",
        "    f += 1                        #Incrementa el indice\n",
        "    crob2 += 1                    #Aumenta las cartas robadas\n",
        "\n",
        "  if sum(mano1)==21:              #Si la mano suma 21\n",
        "   \n",
        "    contador1 += 1                #Aumenta el numero de juegos con 21\n",
        "    promedio1 += crob1            #Aumenta el total de las cartas robadas\n",
        "    cpj1.append(crob1)            #Agrega el numero de cartas robadas a la lista\n",
        "\n",
        "  if sum(mano2)==21:              #Si la mano suma 21\n",
        "   \n",
        "    contador2 += 1                #Aumenta el numero de juegos con 21\n",
        "    promedio2 += crob2            #Aumenta el total de las cartas robadas\n",
        "    cpj2.append(crob2)            #Agrega el numero de cartas robadas a la lista\n",
        "\n",
        "print(\"\\nAnaliticamente, el hot deck puede ser:\", hot_deck,\"y el  cold deck puede ser:\",cold_deck,\"\\n\\nNumero de juegos:\",n)\n"
      ],
      "execution_count": 21,
      "outputs": [
        {
          "output_type": "stream",
          "text": [
            "Deck Español [1] o Deck Poker [2]: 2\n",
            "\n",
            "Analiticamente, el hot deck puede ser: [1, 2, 1, 2, 1, 2, 3, 6, 1, 5, 5, 2] y el  cold deck puede ser: [10, 10, 3, 10, 10, 8, 8, 6, 5, 2, 10, 4] \n",
            "\n",
            "Numero de juegos: 10000000\n"
          ],
          "name": "stdout"
        }
      ]
    },
    {
      "cell_type": "markdown",
      "metadata": {
        "id": "KXtePFM9H-bR"
      },
      "source": [
        "Deck español:"
      ]
    },
    {
      "cell_type": "code",
      "metadata": {
        "id": "kGXDnfscIAo1",
        "outputId": "43b4e747-b9ae-4374-f6c4-32bdaba89438",
        "colab": {
          "base_uri": "https://localhost:8080/",
          "height": 658
        }
      },
      "source": [
        "print(\"La probabilidad de conseguir 21 con hot deck:\",(contador1/n)*100,\"%  ó  \",(contador1/n))\n",
        "print(\"Cartas para conseguir 21 (Promedio):\", promedio1/contador1)\n",
        "\n",
        "histo = sns.countplot(cpj1, palette = \"ocean\")\n",
        "histo.set(title = \"Numero de cartas que suman 21 por ronda\", xlabel = \"Numero de cartas\", ylabel = \"Numero de 21\")\n",
        "plt.show()\n",
        "\n",
        "print(\"\\nLa probabilidad de conseguir 21 con cold deck:\",(contador2/n)*100,\"%  ó  \",(contador2/n))\n",
        "print(\"Cartas para conseguir 21 (Promedio):\", promedio2/contador2)\n",
        "\n",
        "histo = sns.countplot(cpj2, palette = \"ocean\")\n",
        "histo.set(title = \"Experimental Distribution\", xlabel = \"Numero de cartas\", ylabel = \"Numero de 21\")\n",
        "plt.show()"
      ],
      "execution_count": 20,
      "outputs": [
        {
          "output_type": "stream",
          "text": [
            "La probabilidad de conseguir 21 con hot deck: 42.410940000000004 %  ó   0.4241094\n",
            "Cartas para conseguir 21 (Promedio): 4.214532146658386\n"
          ],
          "name": "stdout"
        },
        {
          "output_type": "display_data",
          "data": {
            "image/png": "[encoded data removed]",
            "text/plain": [
              "<Figure size 432x288 with 1 Axes>"
            ]
          },
          "metadata": {
            "tags": [],
            "needs_background": "light"
          }
        },
        {
          "output_type": "stream",
          "text": [
            "\n",
            "La probabilidad de conseguir 21 con cold deck: 8.338370000000001 %  ó   0.0833837\n",
            "Cartas para conseguir 21 (Promedio): 4.0\n"
          ],
          "name": "stdout"
        },
        {
          "output_type": "display_data",
          "data": {
            "image/png": "[encoded data removed]",
            "text/plain": [
              "<Figure size 432x288 with 1 Axes>"
            ]
          },
          "metadata": {
            "tags": [],
            "needs_background": "light"
          }
        }
      ]
    },
    {
      "cell_type": "markdown",
      "metadata": {
        "id": "xstkfhtZIA4i"
      },
      "source": [
        "Deck de poker:"
      ]
    },
    {
      "cell_type": "code",
      "metadata": {
        "id": "kV3NqW1iICU7",
        "outputId": "765fc524-31d9-4a8d-f7aa-200387d2033c",
        "colab": {
          "base_uri": "https://localhost:8080/",
          "height": 658
        }
      },
      "source": [
        "print(\"La probabilidad de conseguir 21 con hot deck:\",(contador1/n)*100,\"%  ó  \",(contador1/n))\n",
        "print(\"Cartas para conseguir 21 (Promedio):\", promedio1/contador1)\n",
        "\n",
        "histo = sns.countplot(cpj1, palette = \"ocean\")\n",
        "histo.set(title = \"Numero de cartas que suman 21 por ronda\", xlabel = \"Numero de cartas\", ylabel = \"Numero de 21\")\n",
        "plt.show()\n",
        "\n",
        "print(\"\\nLa probabilidad de conseguir 21 con cold deck:\",(contador2/n)*100,\"%  ó  \",(contador2/n))\n",
        "print(\"Cartas para conseguir 21 (Promedio):\", promedio2/contador2)\n",
        "\n",
        "histo = sns.countplot(cpj2, palette = \"ocean\")\n",
        "histo.set(title = \"Experimental Distribution\", xlabel = \"Numero de cartas\", ylabel = \"Numero de 21\")\n",
        "plt.show()"
      ],
      "execution_count": 22,
      "outputs": [
        {
          "output_type": "stream",
          "text": [
            "La probabilidad de conseguir 21 con hot deck: 42.42984 %  ó   0.4242984\n",
            "Cartas para conseguir 21 (Promedio): 4.214157771983114\n"
          ],
          "name": "stdout"
        },
        {
          "output_type": "display_data",
          "data": {
            "image/png": "[encoded data removed]",
            "text/plain": [
              "<Figure size 432x288 with 1 Axes>"
            ]
          },
          "metadata": {
            "tags": [],
            "needs_background": "light"
          }
        },
        {
          "output_type": "stream",
          "text": [
            "\n",
            "La probabilidad de conseguir 21 con cold deck: 8.34714 %  ó   0.0834714\n",
            "Cartas para conseguir 21 (Promedio): 4.0\n"
          ],
          "name": "stdout"
        },
        {
          "output_type": "display_data",
          "data": {
            "image/png": "[encoded data removed]",
            "text/plain": [
              "<Figure size 432x288 with 1 Axes>"
            ]
          },
          "metadata": {
            "tags": [],
            "needs_background": "light"
          }
        }
      ]
    },
    {
      "cell_type": "markdown",
      "metadata": {
        "id": "IqnSmT39B_aq"
      },
      "source": [
        "# Punto 5"
      ]
    },
    {
      "cell_type": "markdown",
      "metadata": {
        "id": "hD0dnRSOKe7A"
      },
      "source": [
        "Estimate the average amount of money (expected value) that Ben wins or losses on a weekend if Ben goes to Vegas every weekend (Friday, Saturday and Sunday), plays every weekend day 10 hours, each game takes 3 mins. Assume that for each game he gets two possibilities, in one he gets in his hand the cards [7,7,5] and a remaining hot deck with 8 cards in which case he bets \\$1000 this happens with probability 1/10; in the other one he gets no cards in his hand a complete shuffled deck in which case he bets \\$10, this happens with the remaining probability 9/10. Use 10000 Montecarlo simulations to estimated the expected amount of money that Ben wins or losses on a weekend for a Spanish 48-card deck with 3 10’s and for a Poker 52-card deck with 4 10’s."
      ]
    },
    {
      "cell_type": "code",
      "metadata": {
        "id": "xoanLkaLKf1G",
        "outputId": "87fdfe88-29f2-4d3f-e602-bd3564d574b5",
        "colab": {
          "base_uri": "https://localhost:8080/",
          "height": 34
        }
      },
      "source": [
        "barajaes = [1,2,3,4,  6,  8,9,10,10,10,\n",
        "            1,2,3,4,5,6,  8,9,10,10,10,\n",
        "            1,2,3,4,5,6,7,8,9,10,10,10,\n",
        "            1,2,3,4,5,6,7,8,9,10,10,10]\n",
        "\n",
        "barajapk= [1,2,3,4,  6,  8,9,10,10,10,10,\n",
        "           1,2,3,4,5,6,  8,9,10,10,10,10,\n",
        "           1,2,3,4,5,6,7,8,9,10,10,10,10,\n",
        "           1,2,3,4,5,6,7,8,9,10,10,10,10]\n",
        "\n",
        "hot_deck = [1,1,1,1,2,2,2,2]\n",
        "\n",
        "opc = int(input(\"Deck Español [1] o Deck Poker [2]: \"))\n",
        "\n",
        "simulaciones=10000\n",
        "n=simulaciones*600                       #Numero de juegos\n",
        "contador1 = 0                     #Numero de juegos en los que se obtuvo 21\n",
        "contador2 = 0\n",
        "\n",
        "promedio1 = 0                     #Suma del numero de cartas robadas en todos los juegos\n",
        "promedio2 = 0\n",
        "\n",
        "if opc==1:\n",
        "  baraja = barajaes\n",
        "else:\n",
        "  baraja = barajapk\n",
        "\n",
        "while(len(hot_deck)<12):          #Llenado hot deck\n",
        "  x = r.choice(baraja)\n",
        "  if(x!=2 and x!=1):\n",
        "    hot_deck.append(x)\n",
        "\n",
        "cpj1 = []                         #Numero de cartas robadas por juego\n",
        "cpj2 = []\n",
        "\n",
        "gano = 0\n",
        "\n",
        "\n",
        "\n",
        "for i in range(n):       #Se juega el 0.1 de las veces con el hot deck\n",
        "  unodediez = r.randint(1, 10)\n",
        "  if unodediez == 1:\n",
        "    r.shuffle(hot_deck)             #Revuelve la baraja\n",
        "    mano1 = [7,7,5]                 #Mano del jugador\n",
        "    crob1 = 3                       #Numero de cartas robadas\n",
        "    f = 0                           #Indice de carta a robar\n",
        "\n",
        "    while sum(mano1)<21:            #Si la mano no suma 21 o mas\n",
        "    \n",
        "      mano1.append(hot_deck[f])     #Agrega a la mano la carta con indice f de la baraja\n",
        "      f += 1                        #Incrementa el indice\n",
        "      crob1 += 1                    #Aumenta las cartas robadas\n",
        "\n",
        "    if sum(mano1)==21:              #Si la mano suma 21\n",
        "   \n",
        "      contador1 += 1                #Aumenta el numero de juegos con 21\n",
        "      gano += 1000                  #Aumenta el dinero ganado en 1000\n",
        "      promedio1 += crob1            #Aumenta el total de las cartas robadas\n",
        "      cpj1.append(crob1)            #Agrega el numero de cartas robadas a la lista\n",
        "\n",
        "  \n",
        "    if sum(mano1)>21:               #Si la mano no suma 21\n",
        "      gano -= 1000                  #Pierde 1000\n",
        "\n",
        "      \n",
        "  if unodediez != 1:\n",
        "    r.shuffle(baraja)               #Revuelve la baraja\n",
        "    mano2 = [7,7,5]                 #Mano del jugador\n",
        "    crob2 = 3                       #Cartas Robadas\n",
        "    f = 0   \n",
        "\n",
        "    while sum(mano2)<21:            #Si la mano no suma 21 o mas\n",
        "\n",
        "      mano2.append(baraja[f])       #Agrega a la mano la carta con indice f de la baraja\n",
        "      f += 1                        #Incrementa el indice\n",
        "      crob2 += 1                    #Aumenta las cartas robadas\n",
        "\n",
        "    if sum(mano2)==21:              #Si la mano suma 21\n",
        "   \n",
        "      contador2 += 1                #Aumenta el numero de juegos con 21\n",
        "      gano += 10                    #Aumenta el dinero ganado en 10\n",
        "      promedio2 += crob2            #Aumenta el total de las cartas robadas\n",
        "      cpj2.append(crob2)            #Agrega el numero de cartas robadas a la lista\n",
        "\n",
        "  \n",
        "    if sum(mano2)>21:               #Si la mano no suma 21\n",
        "      gano -= 10                    #Pierde 10\n",
        "\n",
        "\n",
        "\n",
        "#CODIGO PARA PROBAR QUE FUNCIONE:\n",
        "#print(\"Numero de juegos:\",n,\"\\n\\nLa probabilidad de conseguir 21 con hot deck:\",(contador1/(n*0.1))*100,\"%  ó  \",(contador1/n))\n",
        "#print(\"Cartas para conseguir 21 (Promedio):\", promedio1/contador1)\n",
        "\n",
        "#histo = sns.countplot(cpj1, palette = \"ocean\")\n",
        "#histo.set(title = \"Experimental Distribution with hot-deck\", xlabel = \"Numero de cartas\", ylabel = \"Numero de 21\")\n",
        "#plt.show()\n",
        "\n",
        "#print(\"\\n\")\n",
        "#print(\"\\nLa probabilidad de conseguir 21 con cold deck:\",(contador2/(n*0.9))*100,\"%  ó  \",(contador2/n))\n",
        "#print(\"Cartas para conseguir 21 (Promedio):\", promedio2/contador2)\n",
        "\n",
        "#histo = sns.countplot(cpj2, palette = \"ocean\")\n",
        "#histo.set(title = \"Experimental Distribution with cold-deck\", xlabel = \"Numero de cartas\", ylabel = \"Numero de 21\")\n",
        "#plt.show()"
      ],
      "execution_count": 25,
      "outputs": [
        {
          "output_type": "stream",
          "text": [
            "Deck Español [1] o Deck Poker [2]: 1\n"
          ],
          "name": "stdout"
        }
      ]
    },
    {
      "cell_type": "markdown",
      "metadata": {
        "id": "zSmuwzdXKWzi"
      },
      "source": [
        "Deck español:"
      ]
    },
    {
      "cell_type": "code",
      "metadata": {
        "id": "Al7TgrkfKYnT",
        "outputId": "5fba2d3a-4224-43e7-9e5e-83f78bff4b51",
        "colab": {
          "base_uri": "https://localhost:8080/",
          "height": 102
        }
      },
      "source": [
        "if gano<0:\n",
        "  print(\"\\n\\n Perdio:\", abs(gano)/simulaciones, \"\\n\\n\")\n",
        "elif gano>0:\n",
        "  print(\"\\n\\n Gano:\", gano/simulaciones, \"\\n\\n\")\n",
        "else:\n",
        "  print(\"\\n\\n No gano ni perdio dinero\\n\\n\")"
      ],
      "execution_count": 26,
      "outputs": [
        {
          "output_type": "stream",
          "text": [
            "\n",
            "\n",
            " Perdio: 13512.071 \n",
            "\n",
            "\n"
          ],
          "name": "stdout"
        }
      ]
    },
    {
      "cell_type": "markdown",
      "metadata": {
        "id": "8B5UINcKKbpe"
      },
      "source": [
        "Deck de poker"
      ]
    },
    {
      "cell_type": "code",
      "metadata": {
        "id": "En83hfq_KgbK",
        "outputId": "53a83a1e-d019-4941-8b4d-0d2de321ae86",
        "colab": {
          "base_uri": "https://localhost:8080/",
          "height": 102
        }
      },
      "source": [
        "if gano<0:\n",
        "  print(\"\\n\\n Perdio:\", abs(gano)/simulaciones, \"\\n\\n\")\n",
        "elif gano>0:\n",
        "  print(\"\\n\\n Gano:\", gano/simulaciones, \"\\n\\n\")\n",
        "else:\n",
        "  print(\"\\n\\n No gano ni perdio dinero\\n\\n\")"
      ],
      "execution_count": 24,
      "outputs": [
        {
          "output_type": "stream",
          "text": [
            "\n",
            "\n",
            " Perdio: 13728.32 \n",
            "\n",
            "\n"
          ],
          "name": "stdout"
        }
      ]
    }
  ]
}