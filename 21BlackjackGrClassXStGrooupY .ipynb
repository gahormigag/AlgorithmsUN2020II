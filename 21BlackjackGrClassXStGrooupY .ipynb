{
  "nbformat": 4,
  "nbformat_minor": 0,
  "metadata": {
    "colab": {
      "name": "AlgorithmsLab4.ipynb",
      "provenance": [],
      "collapsed_sections": [
        "FifJfIHri2yr",
        "11ztfN3EjKS2",
        "o15qVZUsB1si",
        "BMLceZcgB7J3",
        "IqnSmT39B_aq",
        "226C0AVCCBsi",
        "UIANiPooWYT1"
      ]
    },
    "kernelspec": {
      "name": "python3",
      "display_name": "Python 3"
    }
  },
  "cells": [
    {
      "cell_type": "code",
      "metadata": {
        "id": "gWYXauBUiyLy",
        "outputId": "b42ad5ad-bd72-4ea1-e36a-bd7abc33c638",
        "colab": {
          "base_uri": "https://localhost:8080/",
          "height": 71
        }
      },
      "source": [
        "import random as r\n",
        "import matplotlib.pyplot as plt\n",
        "import pandas as pd\n",
        "import seaborn as sns"
      ],
      "execution_count": null,
      "outputs": [
        {
          "output_type": "stream",
          "text": [
            "/usr/local/lib/python3.6/dist-packages/statsmodels/tools/_testing.py:19: FutureWarning: pandas.util.testing is deprecated. Use the functions in the public API at pandas.testing instead.\n",
            "  import pandas.util.testing as tm\n"
          ],
          "name": "stderr"
        }
      ]
    },
    {
      "cell_type": "markdown",
      "metadata": {
        "id": "FifJfIHri2yr"
      },
      "source": [
        "# Punto 1"
      ]
    },
    {
      "cell_type": "markdown",
      "metadata": {
        "id": "u7G3rF3KEhpS"
      },
      "source": [
        "Estimate the probability of getting a 21, the average number of cards required to complete 21 and plot the experimental distribution of the number of card required to complete 21 drawing cards sequentially from a shuffled Spanish 48-card deck with card values [1,2,3,4,5,6,7,10,11,12,1,2,3,4,5,6,7,8,9,10,11,12,1,2,3,4,5,6,7,8,9,10,11,12,1,2,3,4,5,6,7,8,9,10,11,12] and from a shuffled Poker 52-card with card values [1,2,3,4,5,6,7,8,9,10,11,12,13,1,2,3,4,5,6,7,8,9,10,11,12,13,1,2,3,4,5,6,7,8,9,10,11,12,13,1,2,3,4,5,6,7,8,9,10,11,12,13] using Montecarlo with 10 millions simulations."
      ]
    },
    {
      "cell_type": "code",
      "metadata": {
        "id": "DuJb_2RPS2MA",
        "outputId": "adff2b73-24c6-44e9-d526-55f1a17a12f7",
        "colab": {
          "base_uri": "https://localhost:8080/",
          "height": 34
        }
      },
      "source": [
        "barajaes = [1,2,3,4,5,6,7,8,9,10,11,12,\n",
        "            1,2,3,4,5,6,7,8,9,10,11,12,\n",
        "            1,2,3,4,5,6,7,8,9,10,11,12,\n",
        "            1,2,3,4,5,6,7,8,9,10,11,12]\n",
        "\n",
        "barajapk= [1,2,3,4,5,6,7,8,9,10,11,12,13,\n",
        "           1,2,3,4,5,6,7,8,9,10,11,12,13,\n",
        "           1,2,3,4,5,6,7,8,9,10,11,12,13,\n",
        "           1,2,3,4,5,6,7,8,9,10,11,12,13]\n",
        "\n",
        "opc = int(input(\"Deck Español [1] o Deck Poker [2]: \"))\n",
        "\n",
        "n=10000000                      #Numero de juegos\n",
        "contador =0                     #Numero de juegos en los que se obtuvo 21\n",
        "promedio = 0                    #Suma del numero de cartas robadas en todos los juegos\n",
        "\n",
        "if opc==1:\n",
        "  baraja = barajaes\n",
        "else:\n",
        "  baraja = barajapk\n",
        "\n",
        "cpj = []                        #Numero de cartas robadas por juego\n",
        "\n",
        "for i in range(n):\n",
        "  r.shuffle(baraja)             #Revuelve la baraja\n",
        "  mano = []                     #Mano del jugador\n",
        "  crob = 0                      #Cartas Robadas\n",
        "  f = 0                         #Indice de carta a robar\n",
        "\n",
        "  while sum(mano)<21:           #Si la mano no suma 21 o mas\n",
        "\n",
        "    mano.append(baraja[f])      #Agrega a la mano la carta con indice f de la baraja\n",
        "    f += 1                      #Incrementa el indice\n",
        "    crob += 1                   #Aumenta las cartas robadas\n",
        "\n",
        "  if sum(mano)==21:             #Si la mano suma 21\n",
        "   \n",
        "    contador += 1               #Aumenta el numero de juegos con 21\n",
        "    promedio += crob            #Aumenta el total de las cartas robadas\n",
        "    cpj.append(crob)            #Agrega el numero de cartas robadas a la lista\n"
      ],
      "execution_count": null,
      "outputs": [
        {
          "output_type": "stream",
          "text": [
            "Deck Español [1] o Deck Poker [2]: 2\n"
          ],
          "name": "stdout"
        }
      ]
    },
    {
      "cell_type": "markdown",
      "metadata": {
        "id": "gXsVaA8e58tI"
      },
      "source": [
        "Barja española:"
      ]
    },
    {
      "cell_type": "code",
      "metadata": {
        "id": "WSYJ97wN53Ou",
        "outputId": "b28718fe-cd34-4ed8-dad1-d6de1bb913cc",
        "colab": {
          "base_uri": "https://localhost:8080/",
          "height": 380
        }
      },
      "source": [
        "print(\"Numero de juegos:\",n,\"\\n\\nLa probabilidad de conseguir 21 es\",(contador/n)*100,\"%  ó  \",(contador/n))\n",
        "print(\"Cartas para conseguir 21 (Promedio):\", round(promedio/contador),\"\\n\")\n",
        "\n",
        "histo = sns.countplot(cpj, palette = \"ocean\")\n",
        "histo.set(title = \"Experimental Distribution\", xlabel = \"Numero de cartas\", ylabel = \"Numero de 21\")\n",
        "plt.show()"
      ],
      "execution_count": null,
      "outputs": [
        {
          "output_type": "stream",
          "text": [
            "Numero de juegos: 10000000 \n",
            "\n",
            "La probabilidad de conseguir 21 es 15.77064 %  ó   0.1577064\n",
            "Cartas para conseguir 21 (Promedio): 3 \n",
            "\n"
          ],
          "name": "stdout"
        },
        {
          "output_type": "display_data",
          "data": {
            "image/png": "[encoded data removed]",
            "text/plain": [
              "<Figure size 432x288 with 1 Axes>"
            ]
          },
          "metadata": {
            "tags": [],
            "needs_background": "light"
          }
        }
      ]
    },
    {
      "cell_type": "markdown",
      "metadata": {
        "id": "3f3Typi36Cas"
      },
      "source": [
        "Baraja de poker"
      ]
    },
    {
      "cell_type": "code",
      "metadata": {
        "id": "2ns7xwVs6EiZ",
        "outputId": "916db353-12e4-43d2-ecbe-4479212c441f",
        "colab": {
          "base_uri": "https://localhost:8080/",
          "height": 380
        }
      },
      "source": [
        "print(\"Numero de juegos:\",n,\"\\n\\nLa probabilidad de conseguir 21 es\",(contador/n)*100,\"%  ó  \",(contador/n))\n",
        "print(\"Cartas para conseguir 21 (Promedio):\", round(promedio/contador),\"\\n\")\n",
        "\n",
        "histo = sns.countplot(cpj, palette = \"ocean\")\n",
        "histo.set(title = \"Experimental Distribution\", xlabel = \"Numero de cartas\", ylabel = \"Numero de 21\")\n",
        "plt.show()"
      ],
      "execution_count": null,
      "outputs": [
        {
          "output_type": "stream",
          "text": [
            "Numero de juegos: 10000000 \n",
            "\n",
            "La probabilidad de conseguir 21 es 14.48247 %  ó   0.1448247\n",
            "Cartas para conseguir 21 (Promedio): 3 \n",
            "\n"
          ],
          "name": "stdout"
        },
        {
          "output_type": "display_data",
          "data": {
            "image/png": "[encoded data removed]",
            "text/plain": [
              "<Figure size 432x288 with 1 Axes>"
            ]
          },
          "metadata": {
            "tags": [],
            "needs_background": "light"
          }
        }
      ]
    },
    {
      "cell_type": "markdown",
      "metadata": {
        "id": "11ztfN3EjKS2"
      },
      "source": [
        "# Punto 2"
      ]
    },
    {
      "cell_type": "markdown",
      "metadata": {
        "id": "o2_zTqFDEmq5"
      },
      "source": [
        "Estimate the probability of getting a 21, the average number of cards required to complete 21 and plot the experimental distribution of the number of card required to complete 21 drawing cards sequentially from a shuffled Spanish 48-card deck with card values [1,2,3,4,5,6,7,10,10,10,1,2,3,4,5,6,7,8,9,10,10,10,1,2,3,4,5,6,7,8,9,10,10,10,1,2,3,4,5,6,7,8,9,10,10,10] and from a shuffled Poker 52-card deck with card values [1,2,3,4,5,6,7,8,9,10,11,12,13,1,2,3,4,5,6,7,8,9,10,10,10,10,1,2,3,4,5,6,7,8,9,10,10,10,10,1,2,3,4,5,6,7,8,9,10,10,10,10] using Montecarlo with 10 millions simulations."
      ]
    },
    {
      "cell_type": "code",
      "metadata": {
        "id": "N6l-8DJfjKS4",
        "outputId": "b03b1d38-2380-4051-890a-113e729e9dab",
        "colab": {
          "base_uri": "https://localhost:8080/",
          "height": 34
        }
      },
      "source": [
        "barajaes = [1,2,3,4,5,6,7,8,9,10,10,10,\n",
        "            1,2,3,4,5,6,7,8,9,10,10,10,\n",
        "            1,2,3,4,5,6,7,8,9,10,10,10,\n",
        "            1,2,3,4,5,6,7,8,9,10,10,10]\n",
        "\n",
        "barajapk= [1,2,3,4,5,6,7,8,9,10,10,10,10,\n",
        "           1,2,3,4,5,6,7,8,9,10,10,10,10,\n",
        "           1,2,3,4,5,6,7,8,9,10,10,10,10,\n",
        "           1,2,3,4,5,6,7,8,9,10,10,10,10]\n",
        "\n",
        "opc = int(input(\"Deck con tres 10 [1] o Deck con cuatro 10 [2]: \"))\n",
        "\n",
        "n=10000000                      #Numero de juegos\n",
        "contador =0                     #Numero de juegos en los que se obtuvo 21\n",
        "promedio = 0                    #Suma del numero de cartas robadas en todos los juegos\n",
        "\n",
        "if opc==1:\n",
        "  baraja = barajaes\n",
        "else:\n",
        "  baraja = barajapk\n",
        "\n",
        "cpj = []                        #Numero de cartas robadas por juego\n",
        "\n",
        "for i in range(n):\n",
        "  r.shuffle(baraja)             #Revuelve la baraja\n",
        "  mano = []                     #Mano del jugador\n",
        "  crob = 0                      #Cartas Robadas\n",
        "  f = 0                         #Indice de carta a robar\n",
        "\n",
        "  while sum(mano)<21:           #Si la mano no suma 21 o mas\n",
        "\n",
        "    mano.append(baraja[f])      #Agrega a la mano la carta con indice f de la baraja\n",
        "    f += 1                      #Incrementa el indice\n",
        "    crob += 1                   #Aumenta las cartas robadas\n",
        "\n",
        "  if sum(mano)==21:             #Si la mano suma 21\n",
        "   \n",
        "    contador += 1               #Aumenta el numero de juegos con 21\n",
        "    promedio += crob            #Aumenta el total de las cartas robadas\n",
        "    cpj.append(crob)            #Agrega el numero de cartas robadas a la lista\n"
      ],
      "execution_count": null,
      "outputs": [
        {
          "output_type": "stream",
          "text": [
            "Deck con tres 10 [1] o Deck con cuatro 10 [2]: 2\n"
          ],
          "name": "stdout"
        }
      ]
    },
    {
      "cell_type": "markdown",
      "metadata": {
        "id": "vaO7HS0RBGRK"
      },
      "source": [
        "Baraja con tres 10:"
      ]
    },
    {
      "cell_type": "code",
      "metadata": {
        "id": "hpFLM_L7BQUI",
        "outputId": "43aa1386-8067-4805-ed15-0bf9ee9171c6",
        "colab": {
          "base_uri": "https://localhost:8080/",
          "height": 363
        }
      },
      "source": [
        "print(\"Numero de juegos:\",n,\"\\n\\nLa probabilidad de conseguir 21:\",(contador/n)*100,\"%  ó  \",(contador/n))\n",
        "print(\"Cartas para conseguir 21 (Promedio):\", round(promedio/contador))\n",
        "\n",
        "histo = sns.countplot(cpj, palette = \"ocean\")\n",
        "histo.set(title = \"Experimental Distribution\", xlabel = \"Numero de cartas\", ylabel = \"Numero de 21\")\n",
        "plt.show()"
      ],
      "execution_count": null,
      "outputs": [
        {
          "output_type": "stream",
          "text": [
            "Numero de juegos: 10000000 \n",
            "\n",
            "La probabilidad de conseguir 21: 14.98544 %  ó   0.1498544\n",
            "Cartas para conseguir 21 (Promedio): 4\n"
          ],
          "name": "stdout"
        },
        {
          "output_type": "display_data",
          "data": {
            "image/png": "[encoded data removed]",
            "text/plain": [
              "<Figure size 432x288 with 1 Axes>"
            ]
          },
          "metadata": {
            "tags": [],
            "needs_background": "light"
          }
        }
      ]
    },
    {
      "cell_type": "markdown",
      "metadata": {
        "id": "GMb_yuoMBQ9v"
      },
      "source": [
        "Baraja con cuatro 10:"
      ]
    },
    {
      "cell_type": "code",
      "metadata": {
        "id": "nUlnh990BTOZ",
        "outputId": "ca849cb1-55b1-443f-fbd4-5b0a6b92a8d1",
        "colab": {
          "base_uri": "https://localhost:8080/",
          "height": 363
        }
      },
      "source": [
        "print(\"Numero de juegos:\",n,\"\\n\\nLa probabilidad de conseguir 21:\",(contador/n)*100,\"%  ó  \",(contador/n))\n",
        "print(\"Cartas para conseguir 21 (Promedio):\", round(promedio/contador))\n",
        "\n",
        "histo = sns.countplot(cpj, palette = \"ocean\")\n",
        "histo.set(title = \"Experimental Distribution\", xlabel = \"Numero de cartas\", ylabel = \"Numero de 21\")\n",
        "plt.show()"
      ],
      "execution_count": null,
      "outputs": [
        {
          "output_type": "stream",
          "text": [
            "Numero de juegos: 10000000 \n",
            "\n",
            "La probabilidad de conseguir 21: 14.01808 %  ó   0.1401808\n",
            "Cartas para conseguir 21 (Promedio): 4\n"
          ],
          "name": "stdout"
        },
        {
          "output_type": "display_data",
          "data": {
            "image/png": "[encoded data removed]",
            "text/plain": [
              "<Figure size 432x288 with 1 Axes>"
            ]
          },
          "metadata": {
            "tags": [],
            "needs_background": "light"
          }
        }
      ]
    },
    {
      "cell_type": "markdown",
      "metadata": {
        "id": "o15qVZUsB1si"
      },
      "source": [
        "# Punto 3"
      ]
    },
    {
      "cell_type": "markdown",
      "metadata": {
        "id": "FpAUIM3FEpzZ"
      },
      "source": [
        "Estimate the probability of getting a 21, the average total number of cards required to complete 21 (including the three that you start with) and plot the experimental distribution of the number of card required to complete 21 with drawing cards sequentially from a shuffled Spanish 48-card deck with 3 10’s and a shuffled Poker 52-card deck with 4 10’s, assuming that you have in your hand the cards [7,7,5]ae and the remaining deck has n/2 cards. You can pick the n/2 cards in the remaining deck in whatever way you choose but with restriction that this has maximum two 7s and three 5, you have to keep the remaining deck fixed through the simulations, use Montecarlo with 10 millions simulations."
      ]
    },
    {
      "cell_type": "code",
      "metadata": {
        "id": "ZaU4naUeErGD",
        "outputId": "ed10ce52-6aa2-4f3f-f753-35ddef883fe3",
        "colab": {
          "base_uri": "https://localhost:8080/",
          "height": 34
        }
      },
      "source": [
        "n=10000000                         #Numero de juegos\n",
        "contador =0                     #Numero de juegos en los que se obtuvo 21\n",
        "promedio = 0                    #Suma del numero de cartas robadas en todos los juegos\n",
        "\n",
        "barajaes = [1,2,3,4,  6,  8,9,10,10,10,\n",
        "            1,2,3,4,5,6,  8,9,10,10,10,\n",
        "            1,2,3,4,5,6,7,8,9,10,10,10,\n",
        "            1,2,3,4,5,6,7,8,9,10,10,10]\n",
        "\n",
        "barajapk= [1,2,3,4,  6,  8,9,10,10,10,10,\n",
        "           1,2,3,4,5,6,  8,9,10,10,10,10,\n",
        "           1,2,3,4,5,6,7,8,9,10,10,10,10,\n",
        "           1,2,3,4,5,6,7,8,9,10,10,10,10]\n",
        "\n",
        "media_baraja = []\n",
        "\n",
        "opc = int(input(\"Deck Español [1] o Deck Poker [2]: \"))\n",
        "\n",
        "if opc==1:\n",
        "  baraja = barajaes\n",
        "else:\n",
        "  baraja = barajapk\n",
        "\n",
        "x = int((len(baraja)-1)/2)\n",
        "\n",
        "for i in range(0,x):        #Divide baraja a la mitad\n",
        "  media_baraja.append(r.choice(baraja))\n",
        "\n",
        "cpj = []                        #Numero de cartas robadas por juego\n",
        "\n",
        "for i in range(n):\n",
        "  r.shuffle(baraja)             #Revuelve la baraja\n",
        "  mano = [7,7,5]                #Mano del jugador\n",
        "  crob = 0                      #Cartas Robadas\n",
        "  f = 0                         #Indice de carta a robar\n",
        "\n",
        "  while sum(mano)<21:           #Si la mano no suma 21 o mas\n",
        "\n",
        "    mano.append(baraja[f])      #Agrega a la mano la carta con indice f de la baraja\n",
        "    f += 1                      #Incrementa el indice\n",
        "    crob += 1                   #Aumenta las cartas robadas\n",
        "\n",
        "  if sum(mano)==21:             #Si la mano suma 21\n",
        "   \n",
        "    contador += 1               #Aumenta el numero de juegos con 21\n",
        "    promedio += crob            #Aumenta el total de las cartas robadas\n",
        "    cpj.append(crob)            #Agrega el numero de cartas robadas a la lista\n"
      ],
      "execution_count": null,
      "outputs": [
        {
          "output_type": "stream",
          "text": [
            "Deck Español [1] o Deck Poker [2]: 2\n"
          ],
          "name": "stdout"
        }
      ]
    },
    {
      "cell_type": "markdown",
      "metadata": {
        "id": "CnNVpHa5Fbi2"
      },
      "source": [
        "Deck español:"
      ]
    },
    {
      "cell_type": "code",
      "metadata": {
        "id": "jEV2GKyzFdMA",
        "outputId": "594646b9-e927-42bd-dfa7-4876c966fbc9",
        "colab": {
          "base_uri": "https://localhost:8080/",
          "height": 363
        }
      },
      "source": [
        "print(\"Numero de juegos:\",n,\"\\n\\nLa probabilidad de conseguir 21:\",(contador/n)*100,\"%  ó  \",(contador/n))\n",
        "print(\"Cartas para conseguir 21 (Promedio):\", promedio/contador)\n",
        "\n",
        "histo = sns.countplot(cpj, palette = \"ocean\")\n",
        "histo.set(title = \"Experimental Distribution\", xlabel = \"Numero de cartas\", ylabel = \"Numero de 21\")\n",
        "plt.show()"
      ],
      "execution_count": null,
      "outputs": [
        {
          "output_type": "stream",
          "text": [
            "Numero de juegos: 10000000 \n",
            "\n",
            "La probabilidad de conseguir 21: 9.47906 %  ó   0.0947906\n",
            "Cartas para conseguir 21 (Promedio): 1.0641677550305622\n"
          ],
          "name": "stdout"
        },
        {
          "output_type": "display_data",
          "data": {
            "image/png": "[encoded data removed]",
            "text/plain": [
              "<Figure size 432x288 with 1 Axes>"
            ]
          },
          "metadata": {
            "tags": [],
            "needs_background": "light"
          }
        }
      ]
    },
    {
      "cell_type": "markdown",
      "metadata": {
        "id": "yGvFWmnUFd5f"
      },
      "source": [
        "Deck de poker:"
      ]
    },
    {
      "cell_type": "code",
      "metadata": {
        "id": "vDCrI9EAFfUg",
        "outputId": "e03061e6-b785-400c-ae41-4aac6f51fef7",
        "colab": {
          "base_uri": "https://localhost:8080/",
          "height": 363
        }
      },
      "source": [
        "print(\"Numero de juegos:\",n,\"\\n\\nLa probabilidad de conseguir 21:\",(contador/n)*100,\"%  ó  \",(contador/n))\n",
        "print(\"Cartas para conseguir 21 (Promedio):\", promedio/contador)\n",
        "\n",
        "histo = sns.countplot(cpj, palette = \"ocean\")\n",
        "histo.set(title = \"Experimental Distribution\", xlabel = \"Numero de cartas\", ylabel = \"Numero de 21\")\n",
        "plt.show()"
      ],
      "execution_count": null,
      "outputs": [
        {
          "output_type": "stream",
          "text": [
            "Numero de juegos: 10000000 \n",
            "\n",
            "La probabilidad de conseguir 21: 8.66636 %  ó   0.0866636\n",
            "Cartas para conseguir 21 (Promedio): 1.0588043884629763\n"
          ],
          "name": "stdout"
        },
        {
          "output_type": "display_data",
          "data": {
            "image/png": "[encoded data removed]",
            "text/plain": [
              "<Figure size 432x288 with 1 Axes>"
            ]
          },
          "metadata": {
            "tags": [],
            "needs_background": "light"
          }
        }
      ]
    },
    {
      "cell_type": "markdown",
      "metadata": {
        "id": "BMLceZcgB7J3"
      },
      "source": [
        "# Punto 4"
      ]
    },
    {
      "cell_type": "markdown",
      "metadata": {
        "id": "nXXCMBPyJBvu"
      },
      "source": [
        "Find two remaining decks with 12 cards for Alg Gr 1 9-11 and with 10 cards for Alg Gr 2 11-1 s; for a Spanish 48-card deck with 3 10’s and for a Poker 52-card deck with 4 10’s; one remaining deck with 8 cards that has the highest probability of getting 21 (hot deck) and the other remaining deck with 8 cards that has the lowest probability of getting 21(cold deck). Assuming that you have in your hand the cards [7,7,5], calculate analytically the probabilities of getting a 21 for both the hot an cold deck, estimate this probabilities of getting a 21, the average total number of cards required to complete 21 (including the three that you start with) and plot the experimental distribution of the total number of card required to complete 21 (including the three that you start with) using Montecarlo with 10 millions simulations."
      ]
    },
    {
      "cell_type": "code",
      "metadata": {
        "id": "BqWICddvJNB1",
        "outputId": "bde78df9-5f16-4043-892b-58e83ba6b7ca",
        "colab": {
          "base_uri": "https://localhost:8080/",
          "height": 102
        }
      },
      "source": [
        "barajaes = [1,2,3,4,  6,  8,9,10,10,10,\n",
        "            1,2,3,4,5,6,  8,9,10,10,10,\n",
        "            1,2,3,4,5,6,7,8,9,10,10,10,\n",
        "            1,2,3,4,5,6,7,8,9,10,10,10]\n",
        "\n",
        "barajapk= [1,2,3,4,  6,  8,9,10,10,10,10,\n",
        "           1,2,3,4,5,6,  8,9,10,10,10,10,\n",
        "           1,2,3,4,5,6,7,8,9,10,10,10,10,\n",
        "           1,2,3,4,5,6,7,8,9,10,10,10,10]\n",
        "\n",
        "hot_deck = [1,1,1,1,2,2,2,2]\n",
        "cold_deck = [2]\n",
        "\n",
        "opc = int(input(\"Deck Español [1] o Deck Poker [2]: \"))\n",
        "\n",
        "n=10000000                        #Numero de juegos\n",
        "\n",
        "contador1 = 0                     #Numero de juegos en los que se obtuvo 21\n",
        "contador2 = 0\n",
        "\n",
        "promedio1 = 0                     #Suma del numero de cartas robadas en todos los juegos\n",
        "promedio2 = 0\n",
        "\n",
        "if opc==1:\n",
        "  baraja = barajaes\n",
        "else:\n",
        "  baraja = barajapk\n",
        "\n",
        "while(len(hot_deck)<12):         #Llenado hot deck\n",
        "  x = r.choice(baraja)\n",
        "  if(x!=2 and x!=1):\n",
        "    hot_deck.append(x)\n",
        "\n",
        "while(len(cold_deck)<12):        #Llenado cold deck\n",
        "  x = r.choice(baraja)\n",
        "  if(x!=2 and x!=1):\n",
        "    cold_deck.append(x)\n",
        "\n",
        "cpj1 = []                         #Numero de cartas robadas por juego\n",
        "cpj2 = []\n",
        "\n",
        "for i in range(n):\n",
        "  r.shuffle(hot_deck)             #Revuelve las barajas\n",
        "  r.shuffle(cold_deck)\n",
        "\n",
        "  mano1 = [7,7,5]                 #Manos del jugador\n",
        "  mano2 = [7,7,5]\n",
        "  crob1 = 3                       #Cartas Robadas\n",
        "  crob2 = 3\n",
        "  f = 0                           #Indice de carta a robar\n",
        "\n",
        "  while sum(mano1)<21:            #Si la mano no suma 21 o mas\n",
        "\n",
        "    mano1.append(hot_deck[f])     #Agrega a la mano la carta con indice f de la baraja\n",
        "    f += 1                        #Incrementa el indice\n",
        "    crob1 += 1                    #Aumenta las cartas robadas\n",
        "  \n",
        "  f = 0  \n",
        "\n",
        "  while sum(mano2)<21:            #Si la mano no suma 21 o mas\n",
        "\n",
        "    mano2.append(cold_deck[f])    #Agrega a la mano la carta con indice f de la baraja\n",
        "    f += 1                        #Incrementa el indice\n",
        "    crob2 += 1                    #Aumenta las cartas robadas\n",
        "\n",
        "  if sum(mano1)==21:              #Si la mano suma 21\n",
        "   \n",
        "    contador1 += 1                #Aumenta el numero de juegos con 21\n",
        "    promedio1 += crob1            #Aumenta el total de las cartas robadas\n",
        "    cpj1.append(crob1)            #Agrega el numero de cartas robadas a la lista\n",
        "\n",
        "  if sum(mano2)==21:              #Si la mano suma 21\n",
        "   \n",
        "    contador2 += 1                #Aumenta el numero de juegos con 21\n",
        "    promedio2 += crob2            #Aumenta el total de las cartas robadas\n",
        "    cpj2.append(crob2)            #Agrega el numero de cartas robadas a la lista\n",
        "\n",
        "print(\"\\nAnaliticamente, el hot deck puede ser:\", hot_deck,\"y el  cold deck puede ser:\",cold_deck,\"\\n\\nNumero de juegos:\",n)\n"
      ],
      "execution_count": null,
      "outputs": [
        {
          "output_type": "stream",
          "text": [
            "Deck Español [1] o Deck Poker [2]: 2\n",
            "\n",
            "Analiticamente, el hot deck puede ser: [2, 1, 10, 2, 8, 1, 4, 2, 1, 8, 1, 2] y el  cold deck puede ser: [10, 4, 4, 3, 9, 3, 2, 3, 4, 10, 6, 5] \n",
            "\n",
            "Numero de juegos: 10000000\n"
          ],
          "name": "stdout"
        }
      ]
    },
    {
      "cell_type": "markdown",
      "metadata": {
        "id": "KXtePFM9H-bR"
      },
      "source": [
        "Deck español:"
      ]
    },
    {
      "cell_type": "code",
      "metadata": {
        "id": "kGXDnfscIAo1",
        "outputId": "8d0ee691-3dfa-47e1-806c-fe6487beeccf",
        "colab": {
          "base_uri": "https://localhost:8080/",
          "height": 658
        }
      },
      "source": [
        "print(\"La probabilidad de conseguir 21 con hot deck:\",(contador1/n)*100,\"%  ó  \",(contador1/n))\n",
        "print(\"Cartas para conseguir 21 (Promedio):\", promedio1/contador1)\n",
        "\n",
        "histo = sns.countplot(cpj1, palette = \"ocean\")\n",
        "histo.set(title = \"Numero de cartas que suman 21 por ronda\", xlabel = \"Numero de cartas\", ylabel = \"Numero de 21\")\n",
        "plt.show()\n",
        "\n",
        "print(\"\\nLa probabilidad de conseguir 21 con cold deck:\",(contador2/n)*100,\"%  ó  \",(contador2/n))\n",
        "print(\"Cartas para conseguir 21 (Promedio):\", promedio2/contador2)\n",
        "\n",
        "histo = sns.countplot(cpj2, palette = \"ocean\")\n",
        "histo.set(title = \"Experimental Distribution\", xlabel = \"Numero de cartas\", ylabel = \"Numero de 21\")\n",
        "plt.show()"
      ],
      "execution_count": null,
      "outputs": [
        {
          "output_type": "stream",
          "text": [
            "La probabilidad de conseguir 21 con hot deck: 42.4268 %  ó   0.424268\n",
            "Cartas para conseguir 21 (Promedio): 4.214270225423553\n"
          ],
          "name": "stdout"
        },
        {
          "output_type": "display_data",
          "data": {
            "image/png": "[encoded data removed]",
            "text/plain": [
              "<Figure size 432x288 with 1 Axes>"
            ]
          },
          "metadata": {
            "tags": [],
            "needs_background": "light"
          }
        },
        {
          "output_type": "stream",
          "text": [
            "\n",
            "La probabilidad de conseguir 21 con cold deck: 8.3331 %  ó   0.083331\n",
            "Cartas para conseguir 21 (Promedio): 4.0\n"
          ],
          "name": "stdout"
        },
        {
          "output_type": "display_data",
          "data": {
            "image/png": "[encoded data removed]",
            "text/plain": [
              "<Figure size 432x288 with 1 Axes>"
            ]
          },
          "metadata": {
            "tags": [],
            "needs_background": "light"
          }
        }
      ]
    },
    {
      "cell_type": "markdown",
      "metadata": {
        "id": "xstkfhtZIA4i"
      },
      "source": [
        "Deck de poker:"
      ]
    },
    {
      "cell_type": "code",
      "metadata": {
        "id": "kV3NqW1iICU7",
        "outputId": "0fe7940d-1b17-4cf7-be0d-f9e43a0fd96b",
        "colab": {
          "base_uri": "https://localhost:8080/",
          "height": 658
        }
      },
      "source": [
        "print(\"La probabilidad de conseguir 21 con hot deck:\",(contador1/n)*100,\"%  ó  \",(contador1/n))\n",
        "print(\"Cartas para conseguir 21 (Promedio):\", promedio1/contador1)\n",
        "\n",
        "histo = sns.countplot(cpj1, palette = \"ocean\")\n",
        "histo.set(title = \"Numero de cartas que suman 21 por ronda\", xlabel = \"Numero de cartas\", ylabel = \"Numero de 21\")\n",
        "plt.show()\n",
        "\n",
        "print(\"\\nLa probabilidad de conseguir 21 con cold deck:\",(contador2/n)*100,\"%  ó  \",(contador2/n))\n",
        "print(\"Cartas para conseguir 21 (Promedio):\", promedio2/contador2)\n",
        "\n",
        "histo = sns.countplot(cpj2, palette = \"ocean\")\n",
        "histo.set(title = \"Experimental Distribution\", xlabel = \"Numero de cartas\", ylabel = \"Numero de 21\")\n",
        "plt.show()"
      ],
      "execution_count": null,
      "outputs": [
        {
          "output_type": "stream",
          "text": [
            "La probabilidad de conseguir 21 con hot deck: 42.4324 %  ó   0.424324\n",
            "Cartas para conseguir 21 (Promedio): 4.214005806883419\n"
          ],
          "name": "stdout"
        },
        {
          "output_type": "display_data",
          "data": {
            "image/png": "[encoded data removed]",
            "text/plain": [
              "<Figure size 432x288 with 1 Axes>"
            ]
          },
          "metadata": {
            "tags": [],
            "needs_background": "light"
          }
        },
        {
          "output_type": "stream",
          "text": [
            "\n",
            "La probabilidad de conseguir 21 con cold deck: 8.33972 %  ó   0.0833972\n",
            "Cartas para conseguir 21 (Promedio): 4.0\n"
          ],
          "name": "stdout"
        },
        {
          "output_type": "display_data",
          "data": {
            "image/png": "[encoded data removed]",
            "text/plain": [
              "<Figure size 432x288 with 1 Axes>"
            ]
          },
          "metadata": {
            "tags": [],
            "needs_background": "light"
          }
        }
      ]
    },
    {
      "cell_type": "markdown",
      "metadata": {
        "id": "IqnSmT39B_aq"
      },
      "source": [
        "# Punto 5"
      ]
    },
    {
      "cell_type": "markdown",
      "metadata": {
        "id": "hD0dnRSOKe7A"
      },
      "source": [
        "Estimate the average amount of money (expected value) that Ben wins or losses on a weekend if Ben goes to Vegas every weekend (Friday, Saturday and Sunday), plays every weekend day 10 hours, each game takes 3 mins. Assume that for each game he gets two possibilities, in one he gets in his hand the cards [7,7,5] and a remaining hot deck with 8 cards in which case he bets \\$1000 this happens with probability 1/10; in the other one he gets no cards in his hand a complete shuffled deck in which case he bets \\$10, this happens with the remaining probability 9/10. Use 10000 Montecarlo simulations to estimated the expected amount of money that Ben wins or losses on a weekend for a Spanish 48-card deck with 3 10’s and for a Poker 52-card deck with 4 10’s."
      ]
    },
    {
      "cell_type": "code",
      "metadata": {
        "id": "xoanLkaLKf1G",
        "outputId": "75d75eb5-8e7c-47e2-b334-9d1b9ee16476",
        "colab": {
          "base_uri": "https://localhost:8080/",
          "height": 34
        }
      },
      "source": [
        "barajaes = [1,2,3,4,  6,  8,9,10,10,10,\n",
        "            1,2,3,4,5,6,  8,9,10,10,10,\n",
        "            1,2,3,4,5,6,7,8,9,10,10,10,\n",
        "            1,2,3,4,5,6,7,8,9,10,10,10]\n",
        "\n",
        "barajapk= [1,2,3,4,  6,  8,9,10,10,10,10,\n",
        "           1,2,3,4,5,6,  8,9,10,10,10,10,\n",
        "           1,2,3,4,5,6,7,8,9,10,10,10,10,\n",
        "           1,2,3,4,5,6,7,8,9,10,10,10,10]\n",
        "\n",
        "hot_deck = [1,1,1,1,2,2,2,2]\n",
        "\n",
        "opc = int(input(\"Deck Español [1] o Deck Poker [2]: \"))\n",
        "\n",
        "n=600*10000                       #Numero de juegos\n",
        "contador1 = 0                     #Numero de juegos en los que se obtuvo 21\n",
        "contador2 = 0\n",
        "\n",
        "promedio1 = 0                     #Suma del numero de cartas robadas en todos los juegos\n",
        "promedio2 = 0\n",
        "\n",
        "if opc==1:\n",
        "  baraja = barajaes\n",
        "else:\n",
        "  baraja = barajapk\n",
        "\n",
        "while(len(hot_deck)<12):          #Llenado hot deck\n",
        "  x = r.choice(baraja)\n",
        "  if(x!=2 and x!=1):\n",
        "    hot_deck.append(x)\n",
        "\n",
        "cpj1 = []                         #Numero de cartas robadas por juego\n",
        "cpj2 = []\n",
        "\n",
        "gano = 0\n",
        "\n",
        "for i in range(int(n*0.1)):       #Se juega el 0.1 de las veces con el hot deck\n",
        "  r.shuffle(hot_deck)             #Revuelve la baraja\n",
        "  mano1 = [7,7,5]                 #Mano del jugador\n",
        "  crob1 = 3                       #Numero de cartas robadas\n",
        "  f = 0                           #Indice de carta a robar\n",
        "\n",
        "  while sum(mano1)<21:            #Si la mano no suma 21 o mas\n",
        "    \n",
        "    mano1.append(hot_deck[f])     #Agrega a la mano la carta con indice f de la baraja\n",
        "    f += 1                        #Incrementa el indice\n",
        "    crob1 += 1                    #Aumenta las cartas robadas\n",
        "\n",
        "  if sum(mano1)==21:              #Si la mano suma 21\n",
        "   \n",
        "    contador1 += 1                #Aumenta el numero de juegos con 21\n",
        "    gano += 1000                  #Aumenta el dinero ganado en 1000\n",
        "    promedio1 += crob1            #Aumenta el total de las cartas robadas\n",
        "    cpj1.append(crob1)            #Agrega el numero de cartas robadas a la lista\n",
        "  \n",
        "  if sum(mano1)>21:               #Si la mano no suma 21\n",
        "    gano -= 1000                  #Pierde 1000\n",
        "\n",
        "for i in range(int(n*0.9)):       #Se juega el 0.9 de las veces con el cold deck\n",
        "  r.shuffle(baraja)               #Revuelve la baraja\n",
        "  mano2 = [7,7,5]                 #Mano del jugador\n",
        "  crob2 = 3                       #Cartas Robadas\n",
        "  f = 0   \n",
        "\n",
        "  while sum(mano2)<21:            #Si la mano no suma 21 o mas\n",
        "\n",
        "    mano2.append(baraja[f])       #Agrega a la mano la carta con indice f de la baraja\n",
        "    f += 1                        #Incrementa el indice\n",
        "    crob2 += 1                    #Aumenta las cartas robadas\n",
        "\n",
        "  if sum(mano2)==21:              #Si la mano suma 21\n",
        "   \n",
        "    contador2 += 1                #Aumenta el numero de juegos con 21\n",
        "    gano += 10                    #Aumenta el dinero ganado en 10\n",
        "    promedio2 += crob2            #Aumenta el total de las cartas robadas\n",
        "    cpj2.append(crob2)            #Agrega el numero de cartas robadas a la lista\n",
        "  \n",
        "  if sum(mano1)>21:               #Si la mano no suma 21\n",
        "    gano -= 10                    #Pierde 10\n",
        "\n",
        "\n",
        "#CODIGO PARA PROBAR QUE FUNCIONE:\n",
        "#print(\"Numero de juegos:\",n,\"\\n\\nLa probabilidad de conseguir 21 con hot deck:\",(contador1/(n*0.1))*100,\"%  ó  \",(contador1/n))\n",
        "#print(\"Cartas para conseguir 21 (Promedio):\", promedio1/contador1)\n",
        "\n",
        "#histo = sns.countplot(cpj1, palette = \"ocean\")\n",
        "#histo.set(title = \"Experimental Distribution with hot-deck\", xlabel = \"Numero de cartas\", ylabel = \"Numero de 21\")\n",
        "#plt.show()\n",
        "\n",
        "#print(\"\\n\")\n",
        "#print(\"\\nLa probabilidad de conseguir 21 con cold deck:\",(contador2/(n*0.9))*100,\"%  ó  \",(contador2/n))\n",
        "#print(\"Cartas para conseguir 21 (Promedio):\", promedio2/contador2)\n",
        "\n",
        "#histo = sns.countplot(cpj2, palette = \"ocean\")\n",
        "#histo.set(title = \"Experimental Distribution with cold-deck\", xlabel = \"Numero de cartas\", ylabel = \"Numero de 21\")\n",
        "#plt.show()"
      ],
      "execution_count": null,
      "outputs": [
        {
          "output_type": "stream",
          "text": [
            "Deck Español [1] o Deck Poker [2]: 2\n"
          ],
          "name": "stdout"
        }
      ]
    },
    {
      "cell_type": "markdown",
      "metadata": {
        "id": "zSmuwzdXKWzi"
      },
      "source": [
        "Deck español:"
      ]
    },
    {
      "cell_type": "code",
      "metadata": {
        "id": "Al7TgrkfKYnT",
        "outputId": "eee66072-aa3f-4a38-b690-60bc50f42072",
        "colab": {
          "base_uri": "https://localhost:8080/",
          "height": 102
        }
      },
      "source": [
        "if gano<0:\n",
        "  print(\"\\n\\n Perdio:\", abs(gano), \"\\n\\n\")\n",
        "elif gano>0:\n",
        "  print(\"\\n\\n Gano:\", gano, \"\\n\\n\")\n",
        "else:\n",
        "  print(\"\\n\\n No gano ni perdio dinero\\n\\n\")"
      ],
      "execution_count": null,
      "outputs": [
        {
          "output_type": "stream",
          "text": [
            "\n",
            "\n",
            " Perdio: 86963500 \n",
            "\n",
            "\n"
          ],
          "name": "stdout"
        }
      ]
    },
    {
      "cell_type": "markdown",
      "metadata": {
        "id": "8B5UINcKKbpe"
      },
      "source": [
        "Deck de poker"
      ]
    },
    {
      "cell_type": "code",
      "metadata": {
        "id": "En83hfq_KgbK",
        "outputId": "b7ae8115-e433-4f1b-c183-7c69b2af3da2",
        "colab": {
          "base_uri": "https://localhost:8080/",
          "height": 102
        }
      },
      "source": [
        "if gano<0:\n",
        "  print(\"\\n\\n Perdio:\", abs(gano), \"\\n\\n\")\n",
        "elif gano>0:\n",
        "  print(\"\\n\\n Gano:\", gano, \"\\n\\n\")\n",
        "else:\n",
        "  print(\"\\n\\n No gano ni perdio dinero\\n\\n\")"
      ],
      "execution_count": null,
      "outputs": [
        {
          "output_type": "stream",
          "text": [
            "\n",
            "\n",
            " Perdio: 139898720 \n",
            "\n",
            "\n"
          ],
          "name": "stdout"
        }
      ]
    }
  ]
}